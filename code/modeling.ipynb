{
 "cells": [
  {
   "cell_type": "markdown",
   "metadata": {},
   "source": [
    "### Import libraries."
   ]
  },
  {
   "cell_type": "code",
   "execution_count": 1,
   "metadata": {},
   "outputs": [],
   "source": [
    "import pandas as pd\n",
    "import numpy as np\n",
    "\n",
    "import seaborn as sns\n",
    "import matplotlib.pyplot as plt\n",
    "\n",
    "from sklearn.linear_model import LinearRegression\n",
    "from sklearn.model_selection import train_test_split, cross_val_score\n",
    "from sklearn import metrics"
   ]
  },
  {
   "cell_type": "markdown",
   "metadata": {},
   "source": [
    "### Read in the data."
   ]
  },
  {
   "cell_type": "code",
   "execution_count": 2,
   "metadata": {},
   "outputs": [],
   "source": [
    "df = pd.read_csv('../data/selected_data.csv')"
   ]
  },
  {
   "cell_type": "code",
   "execution_count": 135,
   "metadata": {},
   "outputs": [],
   "source": [
    "leave = pd.read_csv('../data/parental_leave_oecd.csv')"
   ]
  },
  {
   "cell_type": "markdown",
   "metadata": {},
   "source": [
    "### Set max number of columns and rows."
   ]
  },
  {
   "cell_type": "code",
   "execution_count": 3,
   "metadata": {},
   "outputs": [],
   "source": [
    "pd.set_option('display.max_rows', 500)\n",
    "pd.set_option('display.max_columns', 500)"
   ]
  },
  {
   "cell_type": "code",
   "execution_count": 4,
   "metadata": {},
   "outputs": [
    {
     "data": {
      "text/html": [
       "<div>\n",
       "<style scoped>\n",
       "    .dataframe tbody tr th:only-of-type {\n",
       "        vertical-align: middle;\n",
       "    }\n",
       "\n",
       "    .dataframe tbody tr th {\n",
       "        vertical-align: top;\n",
       "    }\n",
       "\n",
       "    .dataframe thead th {\n",
       "        text-align: right;\n",
       "    }\n",
       "</style>\n",
       "<table border=\"1\" class=\"dataframe\">\n",
       "  <thead>\n",
       "    <tr style=\"text-align: right;\">\n",
       "      <th></th>\n",
       "      <th>country_name</th>\n",
       "      <th>country_code</th>\n",
       "      <th>indicator_code</th>\n",
       "      <th>1970</th>\n",
       "      <th>1971</th>\n",
       "      <th>1972</th>\n",
       "      <th>1973</th>\n",
       "      <th>1974</th>\n",
       "      <th>1975</th>\n",
       "      <th>1976</th>\n",
       "      <th>1977</th>\n",
       "      <th>1978</th>\n",
       "      <th>1979</th>\n",
       "      <th>1980</th>\n",
       "      <th>1981</th>\n",
       "      <th>1982</th>\n",
       "      <th>1983</th>\n",
       "      <th>1984</th>\n",
       "      <th>1985</th>\n",
       "      <th>1986</th>\n",
       "      <th>1987</th>\n",
       "      <th>1988</th>\n",
       "      <th>1989</th>\n",
       "      <th>1990</th>\n",
       "      <th>1991</th>\n",
       "      <th>1992</th>\n",
       "      <th>1993</th>\n",
       "      <th>1994</th>\n",
       "      <th>1995</th>\n",
       "      <th>1996</th>\n",
       "      <th>1997</th>\n",
       "      <th>1998</th>\n",
       "      <th>1999</th>\n",
       "      <th>2000</th>\n",
       "      <th>2001</th>\n",
       "      <th>2002</th>\n",
       "      <th>2003</th>\n",
       "      <th>2004</th>\n",
       "      <th>2005</th>\n",
       "      <th>2006</th>\n",
       "      <th>2007</th>\n",
       "      <th>2008</th>\n",
       "      <th>2009</th>\n",
       "      <th>2010</th>\n",
       "      <th>2011</th>\n",
       "      <th>2012</th>\n",
       "      <th>2013</th>\n",
       "      <th>2014</th>\n",
       "      <th>2015</th>\n",
       "      <th>2016</th>\n",
       "      <th>2017</th>\n",
       "      <th>2018</th>\n",
       "      <th>2019</th>\n",
       "    </tr>\n",
       "  </thead>\n",
       "  <tbody>\n",
       "    <tr>\n",
       "      <th>0</th>\n",
       "      <td>Afghanistan</td>\n",
       "      <td>AFG</td>\n",
       "      <td>PCT.ENG.STM.THR</td>\n",
       "      <td>NaN</td>\n",
       "      <td>NaN</td>\n",
       "      <td>NaN</td>\n",
       "      <td>NaN</td>\n",
       "      <td>NaN</td>\n",
       "      <td>NaN</td>\n",
       "      <td>NaN</td>\n",
       "      <td>NaN</td>\n",
       "      <td>NaN</td>\n",
       "      <td>NaN</td>\n",
       "      <td>NaN</td>\n",
       "      <td>NaN</td>\n",
       "      <td>NaN</td>\n",
       "      <td>NaN</td>\n",
       "      <td>NaN</td>\n",
       "      <td>NaN</td>\n",
       "      <td>NaN</td>\n",
       "      <td>NaN</td>\n",
       "      <td>NaN</td>\n",
       "      <td>NaN</td>\n",
       "      <td>NaN</td>\n",
       "      <td>NaN</td>\n",
       "      <td>NaN</td>\n",
       "      <td>NaN</td>\n",
       "      <td>NaN</td>\n",
       "      <td>NaN</td>\n",
       "      <td>NaN</td>\n",
       "      <td>NaN</td>\n",
       "      <td>NaN</td>\n",
       "      <td>NaN</td>\n",
       "      <td>NaN</td>\n",
       "      <td>NaN</td>\n",
       "      <td>NaN</td>\n",
       "      <td>NaN</td>\n",
       "      <td>NaN</td>\n",
       "      <td>NaN</td>\n",
       "      <td>NaN</td>\n",
       "      <td>NaN</td>\n",
       "      <td>NaN</td>\n",
       "      <td>NaN</td>\n",
       "      <td>NaN</td>\n",
       "      <td>73.100000</td>\n",
       "      <td>NaN</td>\n",
       "      <td>NaN</td>\n",
       "      <td>NaN</td>\n",
       "      <td>NaN</td>\n",
       "      <td>NaN</td>\n",
       "      <td>NaN</td>\n",
       "      <td>NaN</td>\n",
       "      <td>NaN</td>\n",
       "    </tr>\n",
       "    <tr>\n",
       "      <th>1</th>\n",
       "      <td>Afghanistan</td>\n",
       "      <td>AFG</td>\n",
       "      <td>SL.TLF.ACTI.MA.ZS</td>\n",
       "      <td>NaN</td>\n",
       "      <td>NaN</td>\n",
       "      <td>NaN</td>\n",
       "      <td>NaN</td>\n",
       "      <td>NaN</td>\n",
       "      <td>NaN</td>\n",
       "      <td>NaN</td>\n",
       "      <td>NaN</td>\n",
       "      <td>NaN</td>\n",
       "      <td>NaN</td>\n",
       "      <td>NaN</td>\n",
       "      <td>NaN</td>\n",
       "      <td>NaN</td>\n",
       "      <td>NaN</td>\n",
       "      <td>NaN</td>\n",
       "      <td>NaN</td>\n",
       "      <td>NaN</td>\n",
       "      <td>NaN</td>\n",
       "      <td>NaN</td>\n",
       "      <td>NaN</td>\n",
       "      <td>80.709999</td>\n",
       "      <td>80.655998</td>\n",
       "      <td>80.571999</td>\n",
       "      <td>80.462997</td>\n",
       "      <td>80.325996</td>\n",
       "      <td>80.156998</td>\n",
       "      <td>80.140999</td>\n",
       "      <td>80.146004</td>\n",
       "      <td>80.161003</td>\n",
       "      <td>80.179001</td>\n",
       "      <td>80.203003</td>\n",
       "      <td>80.255997</td>\n",
       "      <td>80.331001</td>\n",
       "      <td>80.426003</td>\n",
       "      <td>80.540001</td>\n",
       "      <td>80.662003</td>\n",
       "      <td>80.647003</td>\n",
       "      <td>80.621002</td>\n",
       "      <td>80.566002</td>\n",
       "      <td>80.466003</td>\n",
       "      <td>80.318001</td>\n",
       "      <td>80.221001</td>\n",
       "      <td>80.132004</td>\n",
       "      <td>79.433998</td>\n",
       "      <td>78.738998</td>\n",
       "      <td>78.047997</td>\n",
       "      <td>77.333000</td>\n",
       "      <td>76.581001</td>\n",
       "      <td>76.582001</td>\n",
       "      <td>76.541000</td>\n",
       "    </tr>\n",
       "    <tr>\n",
       "      <th>2</th>\n",
       "      <td>Afghanistan</td>\n",
       "      <td>AFG</td>\n",
       "      <td>SL.TLF.CACT.MA.NE.ZS</td>\n",
       "      <td>NaN</td>\n",
       "      <td>NaN</td>\n",
       "      <td>NaN</td>\n",
       "      <td>NaN</td>\n",
       "      <td>NaN</td>\n",
       "      <td>NaN</td>\n",
       "      <td>NaN</td>\n",
       "      <td>NaN</td>\n",
       "      <td>NaN</td>\n",
       "      <td>96.779999</td>\n",
       "      <td>NaN</td>\n",
       "      <td>NaN</td>\n",
       "      <td>NaN</td>\n",
       "      <td>NaN</td>\n",
       "      <td>NaN</td>\n",
       "      <td>NaN</td>\n",
       "      <td>NaN</td>\n",
       "      <td>NaN</td>\n",
       "      <td>NaN</td>\n",
       "      <td>NaN</td>\n",
       "      <td>NaN</td>\n",
       "      <td>NaN</td>\n",
       "      <td>NaN</td>\n",
       "      <td>NaN</td>\n",
       "      <td>NaN</td>\n",
       "      <td>NaN</td>\n",
       "      <td>NaN</td>\n",
       "      <td>NaN</td>\n",
       "      <td>NaN</td>\n",
       "      <td>NaN</td>\n",
       "      <td>NaN</td>\n",
       "      <td>NaN</td>\n",
       "      <td>NaN</td>\n",
       "      <td>NaN</td>\n",
       "      <td>NaN</td>\n",
       "      <td>NaN</td>\n",
       "      <td>NaN</td>\n",
       "      <td>NaN</td>\n",
       "      <td>82.036201</td>\n",
       "      <td>NaN</td>\n",
       "      <td>NaN</td>\n",
       "      <td>NaN</td>\n",
       "      <td>77.046997</td>\n",
       "      <td>NaN</td>\n",
       "      <td>77.076797</td>\n",
       "      <td>NaN</td>\n",
       "      <td>NaN</td>\n",
       "      <td>73.163597</td>\n",
       "      <td>NaN</td>\n",
       "      <td>NaN</td>\n",
       "    </tr>\n",
       "    <tr>\n",
       "      <th>3</th>\n",
       "      <td>Afghanistan</td>\n",
       "      <td>AFG</td>\n",
       "      <td>SL.TLF.CACT.MA.ZS</td>\n",
       "      <td>NaN</td>\n",
       "      <td>NaN</td>\n",
       "      <td>NaN</td>\n",
       "      <td>NaN</td>\n",
       "      <td>NaN</td>\n",
       "      <td>NaN</td>\n",
       "      <td>NaN</td>\n",
       "      <td>NaN</td>\n",
       "      <td>NaN</td>\n",
       "      <td>NaN</td>\n",
       "      <td>NaN</td>\n",
       "      <td>NaN</td>\n",
       "      <td>NaN</td>\n",
       "      <td>NaN</td>\n",
       "      <td>NaN</td>\n",
       "      <td>NaN</td>\n",
       "      <td>NaN</td>\n",
       "      <td>NaN</td>\n",
       "      <td>NaN</td>\n",
       "      <td>NaN</td>\n",
       "      <td>78.823997</td>\n",
       "      <td>78.761002</td>\n",
       "      <td>78.662003</td>\n",
       "      <td>78.531998</td>\n",
       "      <td>78.369003</td>\n",
       "      <td>78.162003</td>\n",
       "      <td>78.150002</td>\n",
       "      <td>78.168999</td>\n",
       "      <td>78.205002</td>\n",
       "      <td>78.250999</td>\n",
       "      <td>78.306999</td>\n",
       "      <td>78.382004</td>\n",
       "      <td>78.473000</td>\n",
       "      <td>78.580002</td>\n",
       "      <td>78.697998</td>\n",
       "      <td>78.820000</td>\n",
       "      <td>78.778999</td>\n",
       "      <td>78.731003</td>\n",
       "      <td>78.660004</td>\n",
       "      <td>78.551003</td>\n",
       "      <td>78.401001</td>\n",
       "      <td>78.302002</td>\n",
       "      <td>78.208000</td>\n",
       "      <td>77.535004</td>\n",
       "      <td>76.864998</td>\n",
       "      <td>76.197998</td>\n",
       "      <td>75.483002</td>\n",
       "      <td>74.735001</td>\n",
       "      <td>74.707001</td>\n",
       "      <td>74.657997</td>\n",
       "    </tr>\n",
       "    <tr>\n",
       "      <th>4</th>\n",
       "      <td>Afghanistan</td>\n",
       "      <td>AFG</td>\n",
       "      <td>SL.TLF.ACTI.FE.ZS</td>\n",
       "      <td>NaN</td>\n",
       "      <td>NaN</td>\n",
       "      <td>NaN</td>\n",
       "      <td>NaN</td>\n",
       "      <td>NaN</td>\n",
       "      <td>NaN</td>\n",
       "      <td>NaN</td>\n",
       "      <td>NaN</td>\n",
       "      <td>NaN</td>\n",
       "      <td>NaN</td>\n",
       "      <td>NaN</td>\n",
       "      <td>NaN</td>\n",
       "      <td>NaN</td>\n",
       "      <td>NaN</td>\n",
       "      <td>NaN</td>\n",
       "      <td>NaN</td>\n",
       "      <td>NaN</td>\n",
       "      <td>NaN</td>\n",
       "      <td>NaN</td>\n",
       "      <td>NaN</td>\n",
       "      <td>15.662000</td>\n",
       "      <td>15.737000</td>\n",
       "      <td>15.783000</td>\n",
       "      <td>15.771000</td>\n",
       "      <td>15.747000</td>\n",
       "      <td>15.781000</td>\n",
       "      <td>15.582000</td>\n",
       "      <td>15.399000</td>\n",
       "      <td>15.270000</td>\n",
       "      <td>15.193000</td>\n",
       "      <td>15.145000</td>\n",
       "      <td>15.338000</td>\n",
       "      <td>15.592000</td>\n",
       "      <td>15.862000</td>\n",
       "      <td>16.118999</td>\n",
       "      <td>16.358999</td>\n",
       "      <td>16.079000</td>\n",
       "      <td>15.806000</td>\n",
       "      <td>15.587000</td>\n",
       "      <td>15.467000</td>\n",
       "      <td>15.469000</td>\n",
       "      <td>15.898000</td>\n",
       "      <td>16.441999</td>\n",
       "      <td>17.424000</td>\n",
       "      <td>18.459999</td>\n",
       "      <td>19.552000</td>\n",
       "      <td>20.704000</td>\n",
       "      <td>21.910000</td>\n",
       "      <td>22.377001</td>\n",
       "      <td>22.566999</td>\n",
       "    </tr>\n",
       "  </tbody>\n",
       "</table>\n",
       "</div>"
      ],
      "text/plain": [
       "  country_name country_code        indicator_code  1970  1971  1972  1973  \\\n",
       "0  Afghanistan          AFG       PCT.ENG.STM.THR   NaN   NaN   NaN   NaN   \n",
       "1  Afghanistan          AFG     SL.TLF.ACTI.MA.ZS   NaN   NaN   NaN   NaN   \n",
       "2  Afghanistan          AFG  SL.TLF.CACT.MA.NE.ZS   NaN   NaN   NaN   NaN   \n",
       "3  Afghanistan          AFG     SL.TLF.CACT.MA.ZS   NaN   NaN   NaN   NaN   \n",
       "4  Afghanistan          AFG     SL.TLF.ACTI.FE.ZS   NaN   NaN   NaN   NaN   \n",
       "\n",
       "   1974  1975  1976  1977  1978       1979  1980  1981  1982  1983  1984  \\\n",
       "0   NaN   NaN   NaN   NaN   NaN        NaN   NaN   NaN   NaN   NaN   NaN   \n",
       "1   NaN   NaN   NaN   NaN   NaN        NaN   NaN   NaN   NaN   NaN   NaN   \n",
       "2   NaN   NaN   NaN   NaN   NaN  96.779999   NaN   NaN   NaN   NaN   NaN   \n",
       "3   NaN   NaN   NaN   NaN   NaN        NaN   NaN   NaN   NaN   NaN   NaN   \n",
       "4   NaN   NaN   NaN   NaN   NaN        NaN   NaN   NaN   NaN   NaN   NaN   \n",
       "\n",
       "   1985  1986  1987  1988  1989       1990       1991       1992       1993  \\\n",
       "0   NaN   NaN   NaN   NaN   NaN        NaN        NaN        NaN        NaN   \n",
       "1   NaN   NaN   NaN   NaN   NaN  80.709999  80.655998  80.571999  80.462997   \n",
       "2   NaN   NaN   NaN   NaN   NaN        NaN        NaN        NaN        NaN   \n",
       "3   NaN   NaN   NaN   NaN   NaN  78.823997  78.761002  78.662003  78.531998   \n",
       "4   NaN   NaN   NaN   NaN   NaN  15.662000  15.737000  15.783000  15.771000   \n",
       "\n",
       "        1994       1995       1996       1997       1998       1999  \\\n",
       "0        NaN        NaN        NaN        NaN        NaN        NaN   \n",
       "1  80.325996  80.156998  80.140999  80.146004  80.161003  80.179001   \n",
       "2        NaN        NaN        NaN        NaN        NaN        NaN   \n",
       "3  78.369003  78.162003  78.150002  78.168999  78.205002  78.250999   \n",
       "4  15.747000  15.781000  15.582000  15.399000  15.270000  15.193000   \n",
       "\n",
       "        2000       2001       2002       2003       2004       2005  \\\n",
       "0        NaN        NaN        NaN        NaN        NaN        NaN   \n",
       "1  80.203003  80.255997  80.331001  80.426003  80.540001  80.662003   \n",
       "2        NaN        NaN        NaN        NaN        NaN        NaN   \n",
       "3  78.306999  78.382004  78.473000  78.580002  78.697998  78.820000   \n",
       "4  15.145000  15.338000  15.592000  15.862000  16.118999  16.358999   \n",
       "\n",
       "        2006       2007       2008       2009       2010       2011  \\\n",
       "0        NaN        NaN        NaN        NaN        NaN  73.100000   \n",
       "1  80.647003  80.621002  80.566002  80.466003  80.318001  80.221001   \n",
       "2        NaN        NaN  82.036201        NaN        NaN        NaN   \n",
       "3  78.778999  78.731003  78.660004  78.551003  78.401001  78.302002   \n",
       "4  16.079000  15.806000  15.587000  15.467000  15.469000  15.898000   \n",
       "\n",
       "        2012       2013       2014       2015       2016       2017  \\\n",
       "0        NaN        NaN        NaN        NaN        NaN        NaN   \n",
       "1  80.132004  79.433998  78.738998  78.047997  77.333000  76.581001   \n",
       "2  77.046997        NaN  77.076797        NaN        NaN  73.163597   \n",
       "3  78.208000  77.535004  76.864998  76.197998  75.483002  74.735001   \n",
       "4  16.441999  17.424000  18.459999  19.552000  20.704000  21.910000   \n",
       "\n",
       "        2018       2019  \n",
       "0        NaN        NaN  \n",
       "1  76.582001  76.541000  \n",
       "2        NaN        NaN  \n",
       "3  74.707001  74.657997  \n",
       "4  22.377001  22.566999  "
      ]
     },
     "execution_count": 4,
     "metadata": {},
     "output_type": "execute_result"
    }
   ],
   "source": [
    "df.head()"
   ]
  },
  {
   "cell_type": "markdown",
   "metadata": {},
   "source": [
    "### Which indicators offer the most data for year 2018, which is the year we have detail family leave policy data."
   ]
  },
  {
   "cell_type": "code",
   "execution_count": 192,
   "metadata": {},
   "outputs": [
    {
     "data": {
      "text/html": [
       "<div>\n",
       "<style scoped>\n",
       "    .dataframe tbody tr th:only-of-type {\n",
       "        vertical-align: middle;\n",
       "    }\n",
       "\n",
       "    .dataframe tbody tr th {\n",
       "        vertical-align: top;\n",
       "    }\n",
       "\n",
       "    .dataframe thead th {\n",
       "        text-align: right;\n",
       "    }\n",
       "</style>\n",
       "<table border=\"1\" class=\"dataframe\">\n",
       "  <thead>\n",
       "    <tr style=\"text-align: right;\">\n",
       "      <th></th>\n",
       "      <th>country_name</th>\n",
       "      <th>2018</th>\n",
       "    </tr>\n",
       "    <tr>\n",
       "      <th>indicator_code</th>\n",
       "      <th></th>\n",
       "      <th></th>\n",
       "    </tr>\n",
       "  </thead>\n",
       "  <tbody>\n",
       "    <tr>\n",
       "      <th>SP.DYN.IMRT.FE.IN</th>\n",
       "      <td>422</td>\n",
       "      <td>384</td>\n",
       "    </tr>\n",
       "    <tr>\n",
       "      <th>SP.DYN.IMRT.MA.IN</th>\n",
       "      <td>422</td>\n",
       "      <td>384</td>\n",
       "    </tr>\n",
       "    <tr>\n",
       "      <th>SH.IMM.MEAS</th>\n",
       "      <td>422</td>\n",
       "      <td>384</td>\n",
       "    </tr>\n",
       "    <tr>\n",
       "      <th>SH.IMM.IDPT</th>\n",
       "      <td>422</td>\n",
       "      <td>384</td>\n",
       "    </tr>\n",
       "    <tr>\n",
       "      <th>SP.POP.TOTL</th>\n",
       "      <td>211</td>\n",
       "      <td>210</td>\n",
       "    </tr>\n",
       "  </tbody>\n",
       "</table>\n",
       "</div>"
      ],
      "text/plain": [
       "                   country_name  2018\n",
       "indicator_code                       \n",
       "SP.DYN.IMRT.FE.IN           422   384\n",
       "SP.DYN.IMRT.MA.IN           422   384\n",
       "SH.IMM.MEAS                 422   384\n",
       "SH.IMM.IDPT                 422   384\n",
       "SP.POP.TOTL                 211   210"
      ]
     },
     "execution_count": 192,
     "metadata": {},
     "output_type": "execute_result"
    }
   ],
   "source": [
    "df.groupby(by=['indicator_code'])[['country_name', '2018']].count().sort_values(by='2018', ascending=False).head()"
   ]
  },
  {
   "cell_type": "markdown",
   "metadata": {},
   "source": [
    "### Build data for modeling."
   ]
  },
  {
   "cell_type": "code",
   "execution_count": 329,
   "metadata": {},
   "outputs": [],
   "source": [
    "indicator = ['SP.DYN.IMRT.FE.IN', 'SP.DYN.IMRT.MA.IN', 'SH.IMM.MEAS', 'SH.IMM.IDPT']\n",
    "values_2018 = df[df['indicator_code'] == indicator[0]][['country_name', '2018']]"
   ]
  },
  {
   "cell_type": "code",
   "execution_count": 330,
   "metadata": {},
   "outputs": [
    {
     "data": {
      "text/plain": [
       "(192, 2)"
      ]
     },
     "execution_count": 330,
     "metadata": {},
     "output_type": "execute_result"
    }
   ],
   "source": [
    "values_2018.rename(columns={'2018' : 'value_2018'}, inplace=True)\n",
    "values_2018.drop_duplicates(inplace=True)\n",
    "values_2018.dropna(inplace=True)\n",
    "values_2018.reset_index(drop=True, inplace=True)\n",
    "values_2018.shape"
   ]
  },
  {
   "cell_type": "code",
   "execution_count": 331,
   "metadata": {},
   "outputs": [
    {
     "data": {
      "text/html": [
       "<div>\n",
       "<style scoped>\n",
       "    .dataframe tbody tr th:only-of-type {\n",
       "        vertical-align: middle;\n",
       "    }\n",
       "\n",
       "    .dataframe tbody tr th {\n",
       "        vertical-align: top;\n",
       "    }\n",
       "\n",
       "    .dataframe thead th {\n",
       "        text-align: right;\n",
       "    }\n",
       "</style>\n",
       "<table border=\"1\" class=\"dataframe\">\n",
       "  <thead>\n",
       "    <tr style=\"text-align: right;\">\n",
       "      <th></th>\n",
       "      <th>country_name</th>\n",
       "      <th>value_2018</th>\n",
       "    </tr>\n",
       "  </thead>\n",
       "  <tbody>\n",
       "    <tr>\n",
       "      <th>0</th>\n",
       "      <td>Afghanistan</td>\n",
       "      <td>44.6</td>\n",
       "    </tr>\n",
       "    <tr>\n",
       "      <th>1</th>\n",
       "      <td>Albania</td>\n",
       "      <td>7.6</td>\n",
       "    </tr>\n",
       "    <tr>\n",
       "      <th>2</th>\n",
       "      <td>Algeria</td>\n",
       "      <td>19.0</td>\n",
       "    </tr>\n",
       "    <tr>\n",
       "      <th>3</th>\n",
       "      <td>Andorra</td>\n",
       "      <td>2.7</td>\n",
       "    </tr>\n",
       "    <tr>\n",
       "      <th>4</th>\n",
       "      <td>Angola</td>\n",
       "      <td>46.3</td>\n",
       "    </tr>\n",
       "  </tbody>\n",
       "</table>\n",
       "</div>"
      ],
      "text/plain": [
       "  country_name  value_2018\n",
       "0  Afghanistan        44.6\n",
       "1      Albania         7.6\n",
       "2      Algeria        19.0\n",
       "3      Andorra         2.7\n",
       "4       Angola        46.3"
      ]
     },
     "execution_count": 331,
     "metadata": {},
     "output_type": "execute_result"
    }
   ],
   "source": [
    "values_2018.head()"
   ]
  },
  {
   "cell_type": "code",
   "execution_count": 332,
   "metadata": {},
   "outputs": [
    {
     "data": {
      "text/plain": [
       "['Korea']"
      ]
     },
     "execution_count": 332,
     "metadata": {},
     "output_type": "execute_result"
    }
   ],
   "source": [
    "set_difference = set(leave['country_name'].values) - set(values_2018['country_name'].values)\n",
    "list_difference = list(set_difference)\n",
    "list_difference"
   ]
  },
  {
   "cell_type": "code",
   "execution_count": 333,
   "metadata": {},
   "outputs": [],
   "source": [
    "leave.replace('United States', 'United States of America', inplace=True)"
   ]
  },
  {
   "cell_type": "code",
   "execution_count": 334,
   "metadata": {},
   "outputs": [],
   "source": [
    "data = pd.merge(leave, values_2018, left_on='country_name', right_on='country_name', how='inner')"
   ]
  },
  {
   "cell_type": "code",
   "execution_count": 335,
   "metadata": {},
   "outputs": [
    {
     "name": "stdout",
     "output_type": "stream",
     "text": [
      "<class 'pandas.core.frame.DataFrame'>\n",
      "Int64Index: 41 entries, 0 to 40\n",
      "Data columns (total 20 columns):\n",
      " #   Column                Non-Null Count  Dtype  \n",
      "---  ------                --------------  -----  \n",
      " 0   country_name          41 non-null     object \n",
      " 1   ppl_weeks             41 non-null     float64\n",
      " 2   ppl_avg_pay_rate      41 non-null     float64\n",
      " 3   ppl_full_equiv_weeks  41 non-null     float64\n",
      " 4   p_hcl_weeks           41 non-null     float64\n",
      " 5   p_hcl_avg_pr          41 non-null     float64\n",
      " 6   p_hcl_fe_wk           41 non-null     float64\n",
      " 7   p_tpl_wk              41 non-null     float64\n",
      " 8   p_tpl_avg_pr          41 non-null     object \n",
      " 9   p_tpl_fe_wk           41 non-null     object \n",
      " 10  pml_weeks             41 non-null     float64\n",
      " 11  pml_avg_pay_rate      41 non-null     float64\n",
      " 12  pml_full_equiv_weeks  41 non-null     float64\n",
      " 13  m_hcl_weeks           41 non-null     float64\n",
      " 14  m_hcl_avg_pr          41 non-null     float64\n",
      " 15  m_hcl_fe_wk           41 non-null     float64\n",
      " 16  m_tpl_wk              41 non-null     float64\n",
      " 17  m_tpl_avg_pr          41 non-null     float64\n",
      " 18  m_tpl_fe_wk           41 non-null     float64\n",
      " 19  value_2018            41 non-null     float64\n",
      "dtypes: float64(17), object(3)\n",
      "memory usage: 6.7+ KB\n"
     ]
    }
   ],
   "source": [
    "data.info()"
   ]
  },
  {
   "cell_type": "code",
   "execution_count": 336,
   "metadata": {},
   "outputs": [],
   "source": [
    "data.replace('-', 0, inplace=True)\n",
    "data['p_tpl_avg_pr'] = data['p_tpl_avg_pr'].map(lambda x: float(x))\n",
    "data['p_tpl_fe_wk'] = data['p_tpl_fe_wk'].map(lambda x: float(x))"
   ]
  },
  {
   "cell_type": "code",
   "execution_count": 337,
   "metadata": {},
   "outputs": [
    {
     "data": {
      "text/html": [
       "<div>\n",
       "<style scoped>\n",
       "    .dataframe tbody tr th:only-of-type {\n",
       "        vertical-align: middle;\n",
       "    }\n",
       "\n",
       "    .dataframe tbody tr th {\n",
       "        vertical-align: top;\n",
       "    }\n",
       "\n",
       "    .dataframe thead th {\n",
       "        text-align: right;\n",
       "    }\n",
       "</style>\n",
       "<table border=\"1\" class=\"dataframe\">\n",
       "  <thead>\n",
       "    <tr style=\"text-align: right;\">\n",
       "      <th></th>\n",
       "      <th>country_name</th>\n",
       "      <th>ppl_weeks</th>\n",
       "      <th>ppl_avg_pay_rate</th>\n",
       "      <th>ppl_full_equiv_weeks</th>\n",
       "      <th>p_hcl_weeks</th>\n",
       "      <th>p_hcl_avg_pr</th>\n",
       "      <th>p_hcl_fe_wk</th>\n",
       "      <th>p_tpl_wk</th>\n",
       "      <th>p_tpl_avg_pr</th>\n",
       "      <th>p_tpl_fe_wk</th>\n",
       "      <th>pml_weeks</th>\n",
       "      <th>pml_avg_pay_rate</th>\n",
       "      <th>pml_full_equiv_weeks</th>\n",
       "      <th>m_hcl_weeks</th>\n",
       "      <th>m_hcl_avg_pr</th>\n",
       "      <th>m_hcl_fe_wk</th>\n",
       "      <th>m_tpl_wk</th>\n",
       "      <th>m_tpl_avg_pr</th>\n",
       "      <th>m_tpl_fe_wk</th>\n",
       "      <th>value_2018</th>\n",
       "    </tr>\n",
       "  </thead>\n",
       "  <tbody>\n",
       "    <tr>\n",
       "      <th>0</th>\n",
       "      <td>Australia</td>\n",
       "      <td>2.0</td>\n",
       "      <td>42.9</td>\n",
       "      <td>0.9</td>\n",
       "      <td>0.0</td>\n",
       "      <td>0.0</td>\n",
       "      <td>0.0</td>\n",
       "      <td>2.0</td>\n",
       "      <td>42.9</td>\n",
       "      <td>0.9</td>\n",
       "      <td>18.0</td>\n",
       "      <td>42.9</td>\n",
       "      <td>7.7</td>\n",
       "      <td>0.0</td>\n",
       "      <td>0.0</td>\n",
       "      <td>0.0</td>\n",
       "      <td>18.0</td>\n",
       "      <td>42.9</td>\n",
       "      <td>7.7</td>\n",
       "      <td>2.8</td>\n",
       "    </tr>\n",
       "    <tr>\n",
       "      <th>1</th>\n",
       "      <td>Austria</td>\n",
       "      <td>0.0</td>\n",
       "      <td>0.0</td>\n",
       "      <td>0.0</td>\n",
       "      <td>8.7</td>\n",
       "      <td>75.8</td>\n",
       "      <td>6.6</td>\n",
       "      <td>8.7</td>\n",
       "      <td>75.8</td>\n",
       "      <td>6.6</td>\n",
       "      <td>16.0</td>\n",
       "      <td>100.0</td>\n",
       "      <td>16.0</td>\n",
       "      <td>44.0</td>\n",
       "      <td>75.8</td>\n",
       "      <td>33.4</td>\n",
       "      <td>60.0</td>\n",
       "      <td>82.3</td>\n",
       "      <td>49.4</td>\n",
       "      <td>2.6</td>\n",
       "    </tr>\n",
       "    <tr>\n",
       "      <th>2</th>\n",
       "      <td>Belgium</td>\n",
       "      <td>2.0</td>\n",
       "      <td>73.0</td>\n",
       "      <td>1.5</td>\n",
       "      <td>17.3</td>\n",
       "      <td>20.3</td>\n",
       "      <td>3.5</td>\n",
       "      <td>19.3</td>\n",
       "      <td>25.7</td>\n",
       "      <td>5.0</td>\n",
       "      <td>15.0</td>\n",
       "      <td>63.7</td>\n",
       "      <td>9.6</td>\n",
       "      <td>17.3</td>\n",
       "      <td>20.3</td>\n",
       "      <td>3.5</td>\n",
       "      <td>32.3</td>\n",
       "      <td>40.4</td>\n",
       "      <td>13.1</td>\n",
       "      <td>2.5</td>\n",
       "    </tr>\n",
       "    <tr>\n",
       "      <th>3</th>\n",
       "      <td>Canada</td>\n",
       "      <td>0.0</td>\n",
       "      <td>0.0</td>\n",
       "      <td>0.0</td>\n",
       "      <td>0.0</td>\n",
       "      <td>0.0</td>\n",
       "      <td>0.0</td>\n",
       "      <td>0.0</td>\n",
       "      <td>0.0</td>\n",
       "      <td>0.0</td>\n",
       "      <td>16.0</td>\n",
       "      <td>49.9</td>\n",
       "      <td>8.0</td>\n",
       "      <td>35.0</td>\n",
       "      <td>53.2</td>\n",
       "      <td>18.6</td>\n",
       "      <td>51.0</td>\n",
       "      <td>52.1</td>\n",
       "      <td>26.6</td>\n",
       "      <td>4.0</td>\n",
       "    </tr>\n",
       "    <tr>\n",
       "      <th>4</th>\n",
       "      <td>Chile</td>\n",
       "      <td>1.0</td>\n",
       "      <td>100.0</td>\n",
       "      <td>1.0</td>\n",
       "      <td>0.0</td>\n",
       "      <td>0.0</td>\n",
       "      <td>0.0</td>\n",
       "      <td>1.0</td>\n",
       "      <td>100.0</td>\n",
       "      <td>1.0</td>\n",
       "      <td>18.0</td>\n",
       "      <td>100.0</td>\n",
       "      <td>18.0</td>\n",
       "      <td>12.0</td>\n",
       "      <td>100.0</td>\n",
       "      <td>12.0</td>\n",
       "      <td>30.0</td>\n",
       "      <td>100.0</td>\n",
       "      <td>30.0</td>\n",
       "      <td>5.6</td>\n",
       "    </tr>\n",
       "  </tbody>\n",
       "</table>\n",
       "</div>"
      ],
      "text/plain": [
       "  country_name  ppl_weeks  ppl_avg_pay_rate  ppl_full_equiv_weeks  \\\n",
       "0    Australia        2.0              42.9                   0.9   \n",
       "1      Austria        0.0               0.0                   0.0   \n",
       "2      Belgium        2.0              73.0                   1.5   \n",
       "3       Canada        0.0               0.0                   0.0   \n",
       "4        Chile        1.0             100.0                   1.0   \n",
       "\n",
       "   p_hcl_weeks  p_hcl_avg_pr  p_hcl_fe_wk  p_tpl_wk  p_tpl_avg_pr  \\\n",
       "0          0.0           0.0          0.0       2.0          42.9   \n",
       "1          8.7          75.8          6.6       8.7          75.8   \n",
       "2         17.3          20.3          3.5      19.3          25.7   \n",
       "3          0.0           0.0          0.0       0.0           0.0   \n",
       "4          0.0           0.0          0.0       1.0         100.0   \n",
       "\n",
       "   p_tpl_fe_wk  pml_weeks  pml_avg_pay_rate  pml_full_equiv_weeks  \\\n",
       "0          0.9       18.0              42.9                   7.7   \n",
       "1          6.6       16.0             100.0                  16.0   \n",
       "2          5.0       15.0              63.7                   9.6   \n",
       "3          0.0       16.0              49.9                   8.0   \n",
       "4          1.0       18.0             100.0                  18.0   \n",
       "\n",
       "   m_hcl_weeks  m_hcl_avg_pr  m_hcl_fe_wk  m_tpl_wk  m_tpl_avg_pr  \\\n",
       "0          0.0           0.0          0.0      18.0          42.9   \n",
       "1         44.0          75.8         33.4      60.0          82.3   \n",
       "2         17.3          20.3          3.5      32.3          40.4   \n",
       "3         35.0          53.2         18.6      51.0          52.1   \n",
       "4         12.0         100.0         12.0      30.0         100.0   \n",
       "\n",
       "   m_tpl_fe_wk  value_2018  \n",
       "0          7.7         2.8  \n",
       "1         49.4         2.6  \n",
       "2         13.1         2.5  \n",
       "3         26.6         4.0  \n",
       "4         30.0         5.6  "
      ]
     },
     "execution_count": 337,
     "metadata": {},
     "output_type": "execute_result"
    }
   ],
   "source": [
    "data.head()"
   ]
  },
  {
   "cell_type": "markdown",
   "metadata": {},
   "source": [
    "### View correlation between target and feature variables."
   ]
  },
  {
   "cell_type": "code",
   "execution_count": 338,
   "metadata": {},
   "outputs": [
    {
     "data": {
      "image/png": "[encoded data removed]",
      "text/plain": [
       "<Figure size 864x432 with 2 Axes>"
      ]
     },
     "metadata": {
      "needs_background": "light"
     },
     "output_type": "display_data"
    }
   ],
   "source": [
    "plt.figure (figsize=(12,6))\n",
    "sns.heatmap(data.corr()[['value_2018']].sort_values('value_2018', ascending=False),\n",
    "            vmax=1, vmin=-1, cmap='coolwarm', annot=True);"
   ]
  },
  {
   "cell_type": "markdown",
   "metadata": {},
   "source": [
    "### Functions to calculate metrics and scores for the model."
   ]
  },
  {
   "cell_type": "code",
   "execution_count": 339,
   "metadata": {},
   "outputs": [],
   "source": [
    "def calc_metrics(true, pred):\n",
    "    return print ('RMSE '+ str(np.sqrt(metrics.mean_squared_error(true, pred))) + '\\n' +\n",
    "                  'MSE  ' + str(metrics.mean_squared_error (true, pred)) + '\\n' +\n",
    "                  'R2   ' + str(metrics.r2_score (true, pred)) + '\\n' +\n",
    "                  'MAE  ' + str(metrics.mean_absolute_error(true, pred)))\n",
    "\n",
    "def calc_scores(model, X_train, y_train, X_test, y_test):\n",
    "    return print ('Train score  ' + str(model.score (X_train, y_train))  + '\\n' +\n",
    "                  'Test score   ' + str(model.score (X_test, y_test)) + '\\n' +\n",
    "                  'Baseline     ' + str(cross_val_score (model, X_train, y_train).mean()))"
   ]
  },
  {
   "cell_type": "markdown",
   "metadata": {},
   "source": [
    "### Features and Target."
   ]
  },
  {
   "cell_type": "code",
   "execution_count": 340,
   "metadata": {},
   "outputs": [
    {
     "data": {
      "text/plain": [
       "Index(['country_name', 'ppl_weeks', 'ppl_avg_pay_rate', 'ppl_full_equiv_weeks',\n",
       "       'p_hcl_weeks', 'p_hcl_avg_pr', 'p_hcl_fe_wk', 'p_tpl_wk',\n",
       "       'p_tpl_avg_pr', 'p_tpl_fe_wk', 'pml_weeks', 'pml_avg_pay_rate',\n",
       "       'pml_full_equiv_weeks', 'm_hcl_weeks', 'm_hcl_avg_pr', 'm_hcl_fe_wk',\n",
       "       'm_tpl_wk', 'm_tpl_avg_pr', 'm_tpl_fe_wk', 'value_2018'],\n",
       "      dtype='object')"
      ]
     },
     "execution_count": 340,
     "metadata": {},
     "output_type": "execute_result"
    }
   ],
   "source": [
    "data.columns"
   ]
  },
  {
   "cell_type": "code",
   "execution_count": 341,
   "metadata": {},
   "outputs": [],
   "source": [
    "features1 = ['pml_weeks', 'pml_avg_pay_rate',\n",
    "             'pml_full_equiv_weeks', 'm_hcl_weeks', 'm_hcl_avg_pr', 'm_hcl_fe_wk',\n",
    "             'm_tpl_wk', 'm_tpl_avg_pr', 'm_tpl_fe_wk']\n",
    "features = ['pml_weeks', 'pml_avg_pay_rate',\n",
    "            'pml_full_equiv_weeks', 'm_hcl_weeks', 'm_hcl_avg_pr', 'm_hcl_fe_wk']\n",
    "target = 'value_2018'"
   ]
  },
  {
   "cell_type": "code",
   "execution_count": 342,
   "metadata": {},
   "outputs": [],
   "source": [
    "X = data[features]"
   ]
  },
  {
   "cell_type": "code",
   "execution_count": 343,
   "metadata": {},
   "outputs": [],
   "source": [
    "y = data[target]"
   ]
  },
  {
   "cell_type": "code",
   "execution_count": 344,
   "metadata": {},
   "outputs": [
    {
     "data": {
      "text/plain": [
       "((41, 6), (41,))"
      ]
     },
     "execution_count": 344,
     "metadata": {},
     "output_type": "execute_result"
    }
   ],
   "source": [
    "X.shape, y.shape"
   ]
  },
  {
   "cell_type": "code",
   "execution_count": 345,
   "metadata": {},
   "outputs": [],
   "source": [
    "X_train, X_test, y_train, y_test = train_test_split(X, y)"
   ]
  },
  {
   "cell_type": "code",
   "execution_count": 346,
   "metadata": {},
   "outputs": [],
   "source": [
    "model = LinearRegression()"
   ]
  },
  {
   "cell_type": "code",
   "execution_count": 347,
   "metadata": {},
   "outputs": [
    {
     "data": {
      "text/plain": [
       "LinearRegression()"
      ]
     },
     "execution_count": 347,
     "metadata": {},
     "output_type": "execute_result"
    }
   ],
   "source": [
    "model.fit(X_train, y_train)"
   ]
  },
  {
   "cell_type": "code",
   "execution_count": 348,
   "metadata": {},
   "outputs": [],
   "source": [
    "y_preds = model.predict(X_test)"
   ]
  },
  {
   "cell_type": "code",
   "execution_count": 349,
   "metadata": {},
   "outputs": [],
   "source": [
    "resids = pd.DataFrame(columns=['true', 'predicted'])"
   ]
  },
  {
   "cell_type": "code",
   "execution_count": 350,
   "metadata": {},
   "outputs": [],
   "source": [
    "resids['true'] = y_test\n",
    "resids['predicted'] = y_preds\n",
    "resids['resids'] = y_test - y_preds"
   ]
  },
  {
   "cell_type": "code",
   "execution_count": 351,
   "metadata": {},
   "outputs": [
    {
     "data": {
      "text/html": [
       "<div>\n",
       "<style scoped>\n",
       "    .dataframe tbody tr th:only-of-type {\n",
       "        vertical-align: middle;\n",
       "    }\n",
       "\n",
       "    .dataframe tbody tr th {\n",
       "        vertical-align: top;\n",
       "    }\n",
       "\n",
       "    .dataframe thead th {\n",
       "        text-align: right;\n",
       "    }\n",
       "</style>\n",
       "<table border=\"1\" class=\"dataframe\">\n",
       "  <thead>\n",
       "    <tr style=\"text-align: right;\">\n",
       "      <th></th>\n",
       "      <th>true</th>\n",
       "      <th>predicted</th>\n",
       "      <th>resids</th>\n",
       "    </tr>\n",
       "  </thead>\n",
       "  <tbody>\n",
       "    <tr>\n",
       "      <th>40</th>\n",
       "      <td>5.6</td>\n",
       "      <td>1.288044</td>\n",
       "      <td>4.311956</td>\n",
       "    </tr>\n",
       "    <tr>\n",
       "      <th>37</th>\n",
       "      <td>3.7</td>\n",
       "      <td>4.638988</td>\n",
       "      <td>-0.938988</td>\n",
       "    </tr>\n",
       "    <tr>\n",
       "      <th>10</th>\n",
       "      <td>3.0</td>\n",
       "      <td>3.025270</td>\n",
       "      <td>-0.025270</td>\n",
       "    </tr>\n",
       "    <tr>\n",
       "      <th>23</th>\n",
       "      <td>3.7</td>\n",
       "      <td>4.222090</td>\n",
       "      <td>-0.522090</td>\n",
       "    </tr>\n",
       "    <tr>\n",
       "      <th>26</th>\n",
       "      <td>2.7</td>\n",
       "      <td>3.174318</td>\n",
       "      <td>-0.474318</td>\n",
       "    </tr>\n",
       "    <tr>\n",
       "      <th>31</th>\n",
       "      <td>3.3</td>\n",
       "      <td>4.429031</td>\n",
       "      <td>-1.129031</td>\n",
       "    </tr>\n",
       "    <tr>\n",
       "      <th>17</th>\n",
       "      <td>1.8</td>\n",
       "      <td>2.803000</td>\n",
       "      <td>-1.003000</td>\n",
       "    </tr>\n",
       "    <tr>\n",
       "      <th>16</th>\n",
       "      <td>2.5</td>\n",
       "      <td>4.061873</td>\n",
       "      <td>-1.561873</td>\n",
       "    </tr>\n",
       "    <tr>\n",
       "      <th>25</th>\n",
       "      <td>3.5</td>\n",
       "      <td>3.532124</td>\n",
       "      <td>-0.032124</td>\n",
       "    </tr>\n",
       "    <tr>\n",
       "      <th>13</th>\n",
       "      <td>1.5</td>\n",
       "      <td>3.326006</td>\n",
       "      <td>-1.826006</td>\n",
       "    </tr>\n",
       "    <tr>\n",
       "      <th>14</th>\n",
       "      <td>2.7</td>\n",
       "      <td>3.537721</td>\n",
       "      <td>-0.837721</td>\n",
       "    </tr>\n",
       "  </tbody>\n",
       "</table>\n",
       "</div>"
      ],
      "text/plain": [
       "    true  predicted    resids\n",
       "40   5.6   1.288044  4.311956\n",
       "37   3.7   4.638988 -0.938988\n",
       "10   3.0   3.025270 -0.025270\n",
       "23   3.7   4.222090 -0.522090\n",
       "26   2.7   3.174318 -0.474318\n",
       "31   3.3   4.429031 -1.129031\n",
       "17   1.8   2.803000 -1.003000\n",
       "16   2.5   4.061873 -1.561873\n",
       "25   3.5   3.532124 -0.032124\n",
       "13   1.5   3.326006 -1.826006\n",
       "14   2.7   3.537721 -0.837721"
      ]
     },
     "execution_count": 351,
     "metadata": {},
     "output_type": "execute_result"
    }
   ],
   "source": [
    "resids"
   ]
  },
  {
   "cell_type": "code",
   "execution_count": 352,
   "metadata": {},
   "outputs": [
    {
     "name": "stdout",
     "output_type": "stream",
     "text": [
      "RMSE 1.6161156581137364\n",
      "MSE  2.6118298204003954\n",
      "R2   -1.3726081701835429\n",
      "MAE  1.1511250916559173\n"
     ]
    }
   ],
   "source": [
    "calc_metrics(y_test, y_preds)"
   ]
  },
  {
   "cell_type": "code",
   "execution_count": 353,
   "metadata": {},
   "outputs": [
    {
     "name": "stdout",
     "output_type": "stream",
     "text": [
      "Train score  0.2217370187922929\n",
      "Test score   -1.3726081701835429\n",
      "Baseline     -3.249661790936785\n"
     ]
    }
   ],
   "source": [
    "calc_scores(model, X_train, y_train, X_test, y_test)"
   ]
  },
  {
   "cell_type": "code",
   "execution_count": 354,
   "metadata": {},
   "outputs": [
    {
     "data": {
      "text/html": [
       "<div>\n",
       "<style scoped>\n",
       "    .dataframe tbody tr th:only-of-type {\n",
       "        vertical-align: middle;\n",
       "    }\n",
       "\n",
       "    .dataframe tbody tr th {\n",
       "        vertical-align: top;\n",
       "    }\n",
       "\n",
       "    .dataframe thead th {\n",
       "        text-align: right;\n",
       "    }\n",
       "</style>\n",
       "<table border=\"1\" class=\"dataframe\">\n",
       "  <thead>\n",
       "    <tr style=\"text-align: right;\">\n",
       "      <th></th>\n",
       "      <th>coef_name</th>\n",
       "      <th>coef_value</th>\n",
       "    </tr>\n",
       "  </thead>\n",
       "  <tbody>\n",
       "    <tr>\n",
       "      <th>0</th>\n",
       "      <td>pml_weeks</td>\n",
       "      <td>-0.080862</td>\n",
       "    </tr>\n",
       "    <tr>\n",
       "      <th>1</th>\n",
       "      <td>pml_avg_pay_rate</td>\n",
       "      <td>-0.007809</td>\n",
       "    </tr>\n",
       "    <tr>\n",
       "      <th>2</th>\n",
       "      <td>pml_full_equiv_weeks</td>\n",
       "      <td>0.129621</td>\n",
       "    </tr>\n",
       "    <tr>\n",
       "      <th>3</th>\n",
       "      <td>m_hcl_weeks</td>\n",
       "      <td>-0.007640</td>\n",
       "    </tr>\n",
       "    <tr>\n",
       "      <th>4</th>\n",
       "      <td>m_hcl_avg_pr</td>\n",
       "      <td>-0.013209</td>\n",
       "    </tr>\n",
       "    <tr>\n",
       "      <th>5</th>\n",
       "      <td>m_hcl_fe_wk</td>\n",
       "      <td>-0.022236</td>\n",
       "    </tr>\n",
       "  </tbody>\n",
       "</table>\n",
       "</div>"
      ],
      "text/plain": [
       "              coef_name  coef_value\n",
       "0             pml_weeks   -0.080862\n",
       "1      pml_avg_pay_rate   -0.007809\n",
       "2  pml_full_equiv_weeks    0.129621\n",
       "3           m_hcl_weeks   -0.007640\n",
       "4          m_hcl_avg_pr   -0.013209\n",
       "5           m_hcl_fe_wk   -0.022236"
      ]
     },
     "execution_count": 354,
     "metadata": {},
     "output_type": "execute_result"
    }
   ],
   "source": [
    "pd.DataFrame(list(zip(X.columns, model.coef_)), columns=['coef_name', 'coef_value'])"
   ]
  },
  {
   "cell_type": "code",
   "execution_count": null,
   "metadata": {},
   "outputs": [],
   "source": []
  }
 ],
 "metadata": {
  "kernelspec": {
   "display_name": "Python 3",
   "language": "python",
   "name": "python3"
  },
  "language_info": {
   "codemirror_mode": {
    "name": "ipython",
    "version": 3
   },
   "file_extension": ".py",
   "mimetype": "text/x-python",
   "name": "python",
   "nbconvert_exporter": "python",
   "pygments_lexer": "ipython3",
   "version": "3.8.3"
  }
 },
 "nbformat": 4,
 "nbformat_minor": 4
}
