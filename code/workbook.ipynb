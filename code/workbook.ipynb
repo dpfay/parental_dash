{
 "cells": [
  {
   "cell_type": "code",
   "execution_count": 1,
   "metadata": {},
   "outputs": [],
   "source": [
    "import pandas as pd\n",
    "import numpy as np"
   ]
  },
  {
   "cell_type": "code",
   "execution_count": 2,
   "metadata": {},
   "outputs": [],
   "source": [
    "df = pd.read_csv('../data/selected_data.csv')"
   ]
  },
  {
   "cell_type": "code",
   "execution_count": 4,
   "metadata": {},
   "outputs": [],
   "source": [
    "dfr = pd.read_csv('../data/reference_codes.csv')"
   ]
  },
  {
   "cell_type": "code",
   "execution_count": null,
   "metadata": {},
   "outputs": [],
   "source": [
    "codes = [x for x in dfr['series_code']\\\n",
    "        if df[df['indicator_code'] == x].isin(np.nan)]"
   ]
  },
  {
   "cell_type": "code",
   "execution_count": 7,
   "metadata": {},
   "outputs": [
    {
     "data": {
      "text/html": [
       "<div>\n",
       "<style scoped>\n",
       "    .dataframe tbody tr th:only-of-type {\n",
       "        vertical-align: middle;\n",
       "    }\n",
       "\n",
       "    .dataframe tbody tr th {\n",
       "        vertical-align: top;\n",
       "    }\n",
       "\n",
       "    .dataframe thead th {\n",
       "        text-align: right;\n",
       "    }\n",
       "</style>\n",
       "<table border=\"1\" class=\"dataframe\">\n",
       "  <thead>\n",
       "    <tr style=\"text-align: right;\">\n",
       "      <th></th>\n",
       "      <th>country_name</th>\n",
       "      <th>country_code</th>\n",
       "      <th>indicator_code</th>\n",
       "      <th>1970</th>\n",
       "      <th>1971</th>\n",
       "      <th>1972</th>\n",
       "      <th>1973</th>\n",
       "      <th>1974</th>\n",
       "      <th>1975</th>\n",
       "      <th>1976</th>\n",
       "      <th>...</th>\n",
       "      <th>2010</th>\n",
       "      <th>2011</th>\n",
       "      <th>2012</th>\n",
       "      <th>2013</th>\n",
       "      <th>2014</th>\n",
       "      <th>2015</th>\n",
       "      <th>2016</th>\n",
       "      <th>2017</th>\n",
       "      <th>2018</th>\n",
       "      <th>2019</th>\n",
       "    </tr>\n",
       "  </thead>\n",
       "  <tbody>\n",
       "    <tr>\n",
       "      <th>0</th>\n",
       "      <td>Afghanistan</td>\n",
       "      <td>AFG</td>\n",
       "      <td>PCT.ENG.STM.THR</td>\n",
       "      <td>NaN</td>\n",
       "      <td>NaN</td>\n",
       "      <td>NaN</td>\n",
       "      <td>NaN</td>\n",
       "      <td>NaN</td>\n",
       "      <td>NaN</td>\n",
       "      <td>NaN</td>\n",
       "      <td>...</td>\n",
       "      <td>NaN</td>\n",
       "      <td>73.100000</td>\n",
       "      <td>NaN</td>\n",
       "      <td>NaN</td>\n",
       "      <td>NaN</td>\n",
       "      <td>NaN</td>\n",
       "      <td>NaN</td>\n",
       "      <td>NaN</td>\n",
       "      <td>NaN</td>\n",
       "      <td>NaN</td>\n",
       "    </tr>\n",
       "    <tr>\n",
       "      <th>1</th>\n",
       "      <td>Afghanistan</td>\n",
       "      <td>AFG</td>\n",
       "      <td>SL.TLF.ACTI.MA.ZS</td>\n",
       "      <td>NaN</td>\n",
       "      <td>NaN</td>\n",
       "      <td>NaN</td>\n",
       "      <td>NaN</td>\n",
       "      <td>NaN</td>\n",
       "      <td>NaN</td>\n",
       "      <td>NaN</td>\n",
       "      <td>...</td>\n",
       "      <td>80.318001</td>\n",
       "      <td>80.221001</td>\n",
       "      <td>80.132004</td>\n",
       "      <td>79.433998</td>\n",
       "      <td>78.738998</td>\n",
       "      <td>78.047997</td>\n",
       "      <td>77.333000</td>\n",
       "      <td>76.581001</td>\n",
       "      <td>76.582001</td>\n",
       "      <td>76.541000</td>\n",
       "    </tr>\n",
       "    <tr>\n",
       "      <th>2</th>\n",
       "      <td>Afghanistan</td>\n",
       "      <td>AFG</td>\n",
       "      <td>SL.TLF.CACT.MA.NE.ZS</td>\n",
       "      <td>NaN</td>\n",
       "      <td>NaN</td>\n",
       "      <td>NaN</td>\n",
       "      <td>NaN</td>\n",
       "      <td>NaN</td>\n",
       "      <td>NaN</td>\n",
       "      <td>NaN</td>\n",
       "      <td>...</td>\n",
       "      <td>NaN</td>\n",
       "      <td>NaN</td>\n",
       "      <td>77.046997</td>\n",
       "      <td>NaN</td>\n",
       "      <td>77.076797</td>\n",
       "      <td>NaN</td>\n",
       "      <td>NaN</td>\n",
       "      <td>73.163597</td>\n",
       "      <td>NaN</td>\n",
       "      <td>NaN</td>\n",
       "    </tr>\n",
       "    <tr>\n",
       "      <th>3</th>\n",
       "      <td>Afghanistan</td>\n",
       "      <td>AFG</td>\n",
       "      <td>SL.TLF.CACT.MA.ZS</td>\n",
       "      <td>NaN</td>\n",
       "      <td>NaN</td>\n",
       "      <td>NaN</td>\n",
       "      <td>NaN</td>\n",
       "      <td>NaN</td>\n",
       "      <td>NaN</td>\n",
       "      <td>NaN</td>\n",
       "      <td>...</td>\n",
       "      <td>78.401001</td>\n",
       "      <td>78.302002</td>\n",
       "      <td>78.208000</td>\n",
       "      <td>77.535004</td>\n",
       "      <td>76.864998</td>\n",
       "      <td>76.197998</td>\n",
       "      <td>75.483002</td>\n",
       "      <td>74.735001</td>\n",
       "      <td>74.707001</td>\n",
       "      <td>74.657997</td>\n",
       "    </tr>\n",
       "    <tr>\n",
       "      <th>4</th>\n",
       "      <td>Afghanistan</td>\n",
       "      <td>AFG</td>\n",
       "      <td>SL.TLF.ACTI.FE.ZS</td>\n",
       "      <td>NaN</td>\n",
       "      <td>NaN</td>\n",
       "      <td>NaN</td>\n",
       "      <td>NaN</td>\n",
       "      <td>NaN</td>\n",
       "      <td>NaN</td>\n",
       "      <td>NaN</td>\n",
       "      <td>...</td>\n",
       "      <td>15.469000</td>\n",
       "      <td>15.898000</td>\n",
       "      <td>16.441999</td>\n",
       "      <td>17.424000</td>\n",
       "      <td>18.459999</td>\n",
       "      <td>19.552000</td>\n",
       "      <td>20.704000</td>\n",
       "      <td>21.910000</td>\n",
       "      <td>22.377001</td>\n",
       "      <td>22.566999</td>\n",
       "    </tr>\n",
       "  </tbody>\n",
       "</table>\n",
       "<p>5 rows × 53 columns</p>\n",
       "</div>"
      ],
      "text/plain": [
       "  country_name country_code        indicator_code  1970  1971  1972  1973  \\\n",
       "0  Afghanistan          AFG       PCT.ENG.STM.THR   NaN   NaN   NaN   NaN   \n",
       "1  Afghanistan          AFG     SL.TLF.ACTI.MA.ZS   NaN   NaN   NaN   NaN   \n",
       "2  Afghanistan          AFG  SL.TLF.CACT.MA.NE.ZS   NaN   NaN   NaN   NaN   \n",
       "3  Afghanistan          AFG     SL.TLF.CACT.MA.ZS   NaN   NaN   NaN   NaN   \n",
       "4  Afghanistan          AFG     SL.TLF.ACTI.FE.ZS   NaN   NaN   NaN   NaN   \n",
       "\n",
       "   1974  1975  1976  ...       2010       2011       2012       2013  \\\n",
       "0   NaN   NaN   NaN  ...        NaN  73.100000        NaN        NaN   \n",
       "1   NaN   NaN   NaN  ...  80.318001  80.221001  80.132004  79.433998   \n",
       "2   NaN   NaN   NaN  ...        NaN        NaN  77.046997        NaN   \n",
       "3   NaN   NaN   NaN  ...  78.401001  78.302002  78.208000  77.535004   \n",
       "4   NaN   NaN   NaN  ...  15.469000  15.898000  16.441999  17.424000   \n",
       "\n",
       "        2014       2015       2016       2017       2018       2019  \n",
       "0        NaN        NaN        NaN        NaN        NaN        NaN  \n",
       "1  78.738998  78.047997  77.333000  76.581001  76.582001  76.541000  \n",
       "2  77.076797        NaN        NaN  73.163597        NaN        NaN  \n",
       "3  76.864998  76.197998  75.483002  74.735001  74.707001  74.657997  \n",
       "4  18.459999  19.552000  20.704000  21.910000  22.377001  22.566999  \n",
       "\n",
       "[5 rows x 53 columns]"
      ]
     },
     "execution_count": 7,
     "metadata": {},
     "output_type": "execute_result"
    }
   ],
   "source": [
    "df.head()"
   ]
  },
  {
   "cell_type": "code",
   "execution_count": 245,
   "metadata": {},
   "outputs": [],
   "source": [
    "dff = df[df['country_code'] == 'VEN'].set_index('indicator_code')"
   ]
  },
  {
   "cell_type": "code",
   "execution_count": 243,
   "metadata": {},
   "outputs": [],
   "source": [
    "f_adv = dff.loc['SL.TLF.ADVN.FE.ZS', '2019'] / 100"
   ]
  },
  {
   "cell_type": "code",
   "execution_count": 244,
   "metadata": {},
   "outputs": [
    {
     "data": {
      "text/plain": [
       "nan"
      ]
     },
     "execution_count": 244,
     "metadata": {},
     "output_type": "execute_result"
    }
   ],
   "source": [
    "f_adv"
   ]
  },
  {
   "cell_type": "code",
   "execution_count": 19,
   "metadata": {},
   "outputs": [],
   "source": [
    "x = [{'b'}, {'c'}] + [{'d'}]"
   ]
  },
  {
   "cell_type": "code",
   "execution_count": 20,
   "metadata": {},
   "outputs": [
    {
     "data": {
      "text/plain": [
       "[{'b'}, {'c'}, {'d'}]"
      ]
     },
     "execution_count": 20,
     "metadata": {},
     "output_type": "execute_result"
    }
   ],
   "source": [
    "x"
   ]
  },
  {
   "cell_type": "code",
   "execution_count": 157,
   "metadata": {},
   "outputs": [
    {
     "data": {
      "text/plain": [
       "38041754.0"
      ]
     },
     "execution_count": 157,
     "metadata": {},
     "output_type": "execute_result"
    }
   ],
   "source": [
    "dff.loc['SP.POP.TOTL', '2019']"
   ]
  },
  {
   "cell_type": "code",
   "execution_count": 27,
   "metadata": {},
   "outputs": [
    {
     "data": {
      "text/plain": [
       "101"
      ]
     },
     "execution_count": 27,
     "metadata": {},
     "output_type": "execute_result"
    }
   ],
   "source": [
    "len([x for x in dfr['series_code'] if\\\n",
    "    (df[df['indicator_code'] == x]\\\n",
    "        .drop(columns = ['country_name', 'country_code', 'indicator_code'])\\\n",
    "        .isin([np.nan]).mean() < 0.5).any()])"
   ]
  },
  {
   "cell_type": "code",
   "execution_count": 28,
   "metadata": {},
   "outputs": [
    {
     "data": {
      "text/plain": [
       "149"
      ]
     },
     "execution_count": 28,
     "metadata": {},
     "output_type": "execute_result"
    }
   ],
   "source": [
    "len([x for x in dfr['series_code']])"
   ]
  },
  {
   "cell_type": "code",
   "execution_count": 43,
   "metadata": {},
   "outputs": [
    {
     "data": {
      "text/plain": [
       "68"
      ]
     },
     "execution_count": 43,
     "metadata": {},
     "output_type": "execute_result"
    }
   ],
   "source": [
    "len([x for x in dfr['series_code'] if\\\n",
    "    (df[df['indicator_code'] == x]\\\n",
    "        .drop(columns = ['country_name', 'country_code', 'indicator_code'])\\\n",
    "        .isin([np.nan]).mean() < 0.5).mean() > 0.4])"
   ]
  },
  {
   "cell_type": "code",
   "execution_count": 50,
   "metadata": {},
   "outputs": [],
   "source": [
    "dfr.drop_duplicates(inplace = True)"
   ]
  },
  {
   "cell_type": "code",
   "execution_count": 91,
   "metadata": {},
   "outputs": [],
   "source": [
    "dfr.to_csv('../data/reference_codes.csv', index = False)"
   ]
  },
  {
   "cell_type": "code",
   "execution_count": 88,
   "metadata": {},
   "outputs": [],
   "source": [
    "qs = [x for x in dfr['series_code'] if\\\n",
    "    ((df[df['indicator_code'] == x]\\\n",
    "        .drop(columns = ['country_name', 'country_code', 'indicator_code'])\\\n",
    "        .isin([np.nan]).mean() < 0.6).mean() > 0.3)\\\n",
    "     & ('SL.TLF' not in x)\\\n",
    "     & ('SP.POP' not in x)\\\n",
    "     & ('SL.EMP' not in x)\\\n",
    "     & ('IC.REG' not in x)\\\n",
    "     & ('SL.FAM' not in x)\\\n",
    "     ]"
   ]
  },
  {
   "cell_type": "code",
   "execution_count": 89,
   "metadata": {},
   "outputs": [],
   "source": [
    "qsi = [int(dfr[dfr['series_code'] == x].index.values) for x in qs]"
   ]
  },
  {
   "cell_type": "code",
   "execution_count": 98,
   "metadata": {},
   "outputs": [],
   "source": [
    "temp = dfr.iloc[qsi, :].copy().reset_index(drop = True)"
   ]
  },
  {
   "cell_type": "code",
   "execution_count": 99,
   "metadata": {},
   "outputs": [
    {
     "data": {
      "text/plain": [
       "'NY.GDP.MKTP.CD'"
      ]
     },
     "execution_count": 99,
     "metadata": {},
     "output_type": "execute_result"
    }
   ],
   "source": [
    "temp.loc[0, 'series_code']"
   ]
  },
  {
   "cell_type": "code",
   "execution_count": 100,
   "metadata": {},
   "outputs": [
    {
     "data": {
      "text/plain": [
       "'NY.GDP.MKTP.CD'"
      ]
     },
     "execution_count": 100,
     "metadata": {},
     "output_type": "execute_result"
    }
   ],
   "source": [
    "temp.loc[0, 'series_code']"
   ]
  },
  {
   "cell_type": "code",
   "execution_count": 132,
   "metadata": {},
   "outputs": [],
   "source": [
    "ls = [i for i in range(1970, 2020)]"
   ]
  },
  {
   "cell_type": "code",
   "execution_count": 136,
   "metadata": {},
   "outputs": [],
   "source": [
    "from itertools import compress"
   ]
  },
  {
   "cell_type": "code",
   "execution_count": 139,
   "metadata": {},
   "outputs": [
    {
     "data": {
      "text/plain": [
       "2000"
      ]
     },
     "execution_count": 139,
     "metadata": {},
     "output_type": "execute_result"
    }
   ],
   "source": [
    "min(list(compress(ls, xs)))"
   ]
  },
  {
   "cell_type": "code",
   "execution_count": 149,
   "metadata": {},
   "outputs": [
    {
     "data": {
      "text/html": [
       "<div>\n",
       "<style scoped>\n",
       "    .dataframe tbody tr th:only-of-type {\n",
       "        vertical-align: middle;\n",
       "    }\n",
       "\n",
       "    .dataframe tbody tr th {\n",
       "        vertical-align: top;\n",
       "    }\n",
       "\n",
       "    .dataframe thead th {\n",
       "        text-align: right;\n",
       "    }\n",
       "</style>\n",
       "<table border=\"1\" class=\"dataframe\">\n",
       "  <thead>\n",
       "    <tr style=\"text-align: right;\">\n",
       "      <th></th>\n",
       "      <th>country_name</th>\n",
       "      <th>country_code</th>\n",
       "      <th>indicator_code</th>\n",
       "      <th>1970</th>\n",
       "      <th>1971</th>\n",
       "      <th>1972</th>\n",
       "      <th>1973</th>\n",
       "      <th>1974</th>\n",
       "      <th>1975</th>\n",
       "      <th>1976</th>\n",
       "      <th>...</th>\n",
       "      <th>2010</th>\n",
       "      <th>2011</th>\n",
       "      <th>2012</th>\n",
       "      <th>2013</th>\n",
       "      <th>2014</th>\n",
       "      <th>2015</th>\n",
       "      <th>2016</th>\n",
       "      <th>2017</th>\n",
       "      <th>2018</th>\n",
       "      <th>2019</th>\n",
       "    </tr>\n",
       "  </thead>\n",
       "  <tbody>\n",
       "    <tr>\n",
       "      <th>0</th>\n",
       "      <td>Afghanistan</td>\n",
       "      <td>AFG</td>\n",
       "      <td>PCT.ENG.STM.THR</td>\n",
       "      <td>NaN</td>\n",
       "      <td>NaN</td>\n",
       "      <td>NaN</td>\n",
       "      <td>NaN</td>\n",
       "      <td>NaN</td>\n",
       "      <td>NaN</td>\n",
       "      <td>NaN</td>\n",
       "      <td>...</td>\n",
       "      <td>NaN</td>\n",
       "      <td>73.100000</td>\n",
       "      <td>NaN</td>\n",
       "      <td>NaN</td>\n",
       "      <td>NaN</td>\n",
       "      <td>NaN</td>\n",
       "      <td>NaN</td>\n",
       "      <td>NaN</td>\n",
       "      <td>NaN</td>\n",
       "      <td>NaN</td>\n",
       "    </tr>\n",
       "    <tr>\n",
       "      <th>1</th>\n",
       "      <td>Afghanistan</td>\n",
       "      <td>AFG</td>\n",
       "      <td>SL.TLF.ACTI.MA.ZS</td>\n",
       "      <td>NaN</td>\n",
       "      <td>NaN</td>\n",
       "      <td>NaN</td>\n",
       "      <td>NaN</td>\n",
       "      <td>NaN</td>\n",
       "      <td>NaN</td>\n",
       "      <td>NaN</td>\n",
       "      <td>...</td>\n",
       "      <td>80.318001</td>\n",
       "      <td>80.221001</td>\n",
       "      <td>80.132004</td>\n",
       "      <td>79.433998</td>\n",
       "      <td>78.738998</td>\n",
       "      <td>78.047997</td>\n",
       "      <td>77.333000</td>\n",
       "      <td>76.581001</td>\n",
       "      <td>76.582001</td>\n",
       "      <td>76.541000</td>\n",
       "    </tr>\n",
       "    <tr>\n",
       "      <th>2</th>\n",
       "      <td>Afghanistan</td>\n",
       "      <td>AFG</td>\n",
       "      <td>SL.TLF.CACT.MA.NE.ZS</td>\n",
       "      <td>NaN</td>\n",
       "      <td>NaN</td>\n",
       "      <td>NaN</td>\n",
       "      <td>NaN</td>\n",
       "      <td>NaN</td>\n",
       "      <td>NaN</td>\n",
       "      <td>NaN</td>\n",
       "      <td>...</td>\n",
       "      <td>NaN</td>\n",
       "      <td>NaN</td>\n",
       "      <td>77.046997</td>\n",
       "      <td>NaN</td>\n",
       "      <td>77.076797</td>\n",
       "      <td>NaN</td>\n",
       "      <td>NaN</td>\n",
       "      <td>73.163597</td>\n",
       "      <td>NaN</td>\n",
       "      <td>NaN</td>\n",
       "    </tr>\n",
       "    <tr>\n",
       "      <th>3</th>\n",
       "      <td>Afghanistan</td>\n",
       "      <td>AFG</td>\n",
       "      <td>SL.TLF.CACT.MA.ZS</td>\n",
       "      <td>NaN</td>\n",
       "      <td>NaN</td>\n",
       "      <td>NaN</td>\n",
       "      <td>NaN</td>\n",
       "      <td>NaN</td>\n",
       "      <td>NaN</td>\n",
       "      <td>NaN</td>\n",
       "      <td>...</td>\n",
       "      <td>78.401001</td>\n",
       "      <td>78.302002</td>\n",
       "      <td>78.208000</td>\n",
       "      <td>77.535004</td>\n",
       "      <td>76.864998</td>\n",
       "      <td>76.197998</td>\n",
       "      <td>75.483002</td>\n",
       "      <td>74.735001</td>\n",
       "      <td>74.707001</td>\n",
       "      <td>74.657997</td>\n",
       "    </tr>\n",
       "    <tr>\n",
       "      <th>4</th>\n",
       "      <td>Afghanistan</td>\n",
       "      <td>AFG</td>\n",
       "      <td>SL.TLF.ACTI.FE.ZS</td>\n",
       "      <td>NaN</td>\n",
       "      <td>NaN</td>\n",
       "      <td>NaN</td>\n",
       "      <td>NaN</td>\n",
       "      <td>NaN</td>\n",
       "      <td>NaN</td>\n",
       "      <td>NaN</td>\n",
       "      <td>...</td>\n",
       "      <td>15.469000</td>\n",
       "      <td>15.898000</td>\n",
       "      <td>16.441999</td>\n",
       "      <td>17.424000</td>\n",
       "      <td>18.459999</td>\n",
       "      <td>19.552000</td>\n",
       "      <td>20.704000</td>\n",
       "      <td>21.910000</td>\n",
       "      <td>22.377001</td>\n",
       "      <td>22.566999</td>\n",
       "    </tr>\n",
       "    <tr>\n",
       "      <th>...</th>\n",
       "      <td>...</td>\n",
       "      <td>...</td>\n",
       "      <td>...</td>\n",
       "      <td>...</td>\n",
       "      <td>...</td>\n",
       "      <td>...</td>\n",
       "      <td>...</td>\n",
       "      <td>...</td>\n",
       "      <td>...</td>\n",
       "      <td>...</td>\n",
       "      <td>...</td>\n",
       "      <td>...</td>\n",
       "      <td>...</td>\n",
       "      <td>...</td>\n",
       "      <td>...</td>\n",
       "      <td>...</td>\n",
       "      <td>...</td>\n",
       "      <td>...</td>\n",
       "      <td>...</td>\n",
       "      <td>...</td>\n",
       "      <td>...</td>\n",
       "    </tr>\n",
       "    <tr>\n",
       "      <th>30620</th>\n",
       "      <td>Zimbabwe</td>\n",
       "      <td>ZWE</td>\n",
       "      <td>SL.TLF.ACTI.1524.MA.NE.ZS</td>\n",
       "      <td>NaN</td>\n",
       "      <td>NaN</td>\n",
       "      <td>NaN</td>\n",
       "      <td>NaN</td>\n",
       "      <td>NaN</td>\n",
       "      <td>NaN</td>\n",
       "      <td>NaN</td>\n",
       "      <td>...</td>\n",
       "      <td>NaN</td>\n",
       "      <td>78.259399</td>\n",
       "      <td>53.040001</td>\n",
       "      <td>NaN</td>\n",
       "      <td>80.130203</td>\n",
       "      <td>NaN</td>\n",
       "      <td>NaN</td>\n",
       "      <td>NaN</td>\n",
       "      <td>NaN</td>\n",
       "      <td>36.129002</td>\n",
       "    </tr>\n",
       "    <tr>\n",
       "      <th>30621</th>\n",
       "      <td>Zimbabwe</td>\n",
       "      <td>ZWE</td>\n",
       "      <td>SL.TLF.CACT.FE.ZS</td>\n",
       "      <td>NaN</td>\n",
       "      <td>NaN</td>\n",
       "      <td>NaN</td>\n",
       "      <td>NaN</td>\n",
       "      <td>NaN</td>\n",
       "      <td>NaN</td>\n",
       "      <td>NaN</td>\n",
       "      <td>...</td>\n",
       "      <td>77.288002</td>\n",
       "      <td>77.436996</td>\n",
       "      <td>77.518997</td>\n",
       "      <td>77.651001</td>\n",
       "      <td>77.754997</td>\n",
       "      <td>77.838997</td>\n",
       "      <td>77.925003</td>\n",
       "      <td>77.978996</td>\n",
       "      <td>78.014000</td>\n",
       "      <td>78.106003</td>\n",
       "    </tr>\n",
       "    <tr>\n",
       "      <th>30622</th>\n",
       "      <td>Zimbabwe</td>\n",
       "      <td>ZWE</td>\n",
       "      <td>SL.TLF.CACT.FE.NE.ZS</td>\n",
       "      <td>NaN</td>\n",
       "      <td>NaN</td>\n",
       "      <td>NaN</td>\n",
       "      <td>NaN</td>\n",
       "      <td>NaN</td>\n",
       "      <td>NaN</td>\n",
       "      <td>NaN</td>\n",
       "      <td>...</td>\n",
       "      <td>NaN</td>\n",
       "      <td>77.469704</td>\n",
       "      <td>58.099998</td>\n",
       "      <td>NaN</td>\n",
       "      <td>80.252800</td>\n",
       "      <td>NaN</td>\n",
       "      <td>NaN</td>\n",
       "      <td>NaN</td>\n",
       "      <td>NaN</td>\n",
       "      <td>34.615200</td>\n",
       "    </tr>\n",
       "    <tr>\n",
       "      <th>30623</th>\n",
       "      <td>Zimbabwe</td>\n",
       "      <td>ZWE</td>\n",
       "      <td>SH.IMM.MEAS</td>\n",
       "      <td>NaN</td>\n",
       "      <td>NaN</td>\n",
       "      <td>NaN</td>\n",
       "      <td>NaN</td>\n",
       "      <td>NaN</td>\n",
       "      <td>NaN</td>\n",
       "      <td>NaN</td>\n",
       "      <td>...</td>\n",
       "      <td>90.000000</td>\n",
       "      <td>92.000000</td>\n",
       "      <td>97.000000</td>\n",
       "      <td>93.000000</td>\n",
       "      <td>92.000000</td>\n",
       "      <td>86.000000</td>\n",
       "      <td>95.000000</td>\n",
       "      <td>90.000000</td>\n",
       "      <td>88.000000</td>\n",
       "      <td>85.000000</td>\n",
       "    </tr>\n",
       "    <tr>\n",
       "      <th>30624</th>\n",
       "      <td>Zimbabwe</td>\n",
       "      <td>ZWE</td>\n",
       "      <td>SN.ITK.VITA.ZS</td>\n",
       "      <td>NaN</td>\n",
       "      <td>NaN</td>\n",
       "      <td>NaN</td>\n",
       "      <td>NaN</td>\n",
       "      <td>NaN</td>\n",
       "      <td>NaN</td>\n",
       "      <td>NaN</td>\n",
       "      <td>...</td>\n",
       "      <td>49.000000</td>\n",
       "      <td>47.000000</td>\n",
       "      <td>61.000000</td>\n",
       "      <td>34.000000</td>\n",
       "      <td>32.000000</td>\n",
       "      <td>45.000000</td>\n",
       "      <td>35.000000</td>\n",
       "      <td>43.000000</td>\n",
       "      <td>NaN</td>\n",
       "      <td>NaN</td>\n",
       "    </tr>\n",
       "  </tbody>\n",
       "</table>\n",
       "<p>30625 rows × 53 columns</p>\n",
       "</div>"
      ],
      "text/plain": [
       "      country_name country_code             indicator_code  1970  1971  1972  \\\n",
       "0      Afghanistan          AFG            PCT.ENG.STM.THR   NaN   NaN   NaN   \n",
       "1      Afghanistan          AFG          SL.TLF.ACTI.MA.ZS   NaN   NaN   NaN   \n",
       "2      Afghanistan          AFG       SL.TLF.CACT.MA.NE.ZS   NaN   NaN   NaN   \n",
       "3      Afghanistan          AFG          SL.TLF.CACT.MA.ZS   NaN   NaN   NaN   \n",
       "4      Afghanistan          AFG          SL.TLF.ACTI.FE.ZS   NaN   NaN   NaN   \n",
       "...            ...          ...                        ...   ...   ...   ...   \n",
       "30620     Zimbabwe          ZWE  SL.TLF.ACTI.1524.MA.NE.ZS   NaN   NaN   NaN   \n",
       "30621     Zimbabwe          ZWE          SL.TLF.CACT.FE.ZS   NaN   NaN   NaN   \n",
       "30622     Zimbabwe          ZWE       SL.TLF.CACT.FE.NE.ZS   NaN   NaN   NaN   \n",
       "30623     Zimbabwe          ZWE                SH.IMM.MEAS   NaN   NaN   NaN   \n",
       "30624     Zimbabwe          ZWE             SN.ITK.VITA.ZS   NaN   NaN   NaN   \n",
       "\n",
       "       1973  1974  1975  1976  ...       2010       2011       2012  \\\n",
       "0       NaN   NaN   NaN   NaN  ...        NaN  73.100000        NaN   \n",
       "1       NaN   NaN   NaN   NaN  ...  80.318001  80.221001  80.132004   \n",
       "2       NaN   NaN   NaN   NaN  ...        NaN        NaN  77.046997   \n",
       "3       NaN   NaN   NaN   NaN  ...  78.401001  78.302002  78.208000   \n",
       "4       NaN   NaN   NaN   NaN  ...  15.469000  15.898000  16.441999   \n",
       "...     ...   ...   ...   ...  ...        ...        ...        ...   \n",
       "30620   NaN   NaN   NaN   NaN  ...        NaN  78.259399  53.040001   \n",
       "30621   NaN   NaN   NaN   NaN  ...  77.288002  77.436996  77.518997   \n",
       "30622   NaN   NaN   NaN   NaN  ...        NaN  77.469704  58.099998   \n",
       "30623   NaN   NaN   NaN   NaN  ...  90.000000  92.000000  97.000000   \n",
       "30624   NaN   NaN   NaN   NaN  ...  49.000000  47.000000  61.000000   \n",
       "\n",
       "            2013       2014       2015       2016       2017       2018  \\\n",
       "0            NaN        NaN        NaN        NaN        NaN        NaN   \n",
       "1      79.433998  78.738998  78.047997  77.333000  76.581001  76.582001   \n",
       "2            NaN  77.076797        NaN        NaN  73.163597        NaN   \n",
       "3      77.535004  76.864998  76.197998  75.483002  74.735001  74.707001   \n",
       "4      17.424000  18.459999  19.552000  20.704000  21.910000  22.377001   \n",
       "...          ...        ...        ...        ...        ...        ...   \n",
       "30620        NaN  80.130203        NaN        NaN        NaN        NaN   \n",
       "30621  77.651001  77.754997  77.838997  77.925003  77.978996  78.014000   \n",
       "30622        NaN  80.252800        NaN        NaN        NaN        NaN   \n",
       "30623  93.000000  92.000000  86.000000  95.000000  90.000000  88.000000   \n",
       "30624  34.000000  32.000000  45.000000  35.000000  43.000000        NaN   \n",
       "\n",
       "            2019  \n",
       "0            NaN  \n",
       "1      76.541000  \n",
       "2            NaN  \n",
       "3      74.657997  \n",
       "4      22.566999  \n",
       "...          ...  \n",
       "30620  36.129002  \n",
       "30621  78.106003  \n",
       "30622  34.615200  \n",
       "30623  85.000000  \n",
       "30624        NaN  \n",
       "\n",
       "[30625 rows x 53 columns]"
      ]
     },
     "execution_count": 149,
     "metadata": {},
     "output_type": "execute_result"
    }
   ],
   "source": [
    "df"
   ]
  },
  {
   "cell_type": "code",
   "execution_count": 222,
   "metadata": {},
   "outputs": [],
   "source": [
    "        tpop = dff.loc['SP.POP.TOTL', '2019']\n",
    "\n",
    "        f14 = dff.loc['SP.POP.0014.FE.IN', '2019']\n",
    "        f64 = dff.loc['SP.POP.1564.FE.IN', '2019']\n",
    "        f65 = dff.loc['SP.POP.65UP.FE.IN', '2019']\n",
    "\n",
    "        t14 = round(dff.loc['SP.POP.0014.TO.ZS', '2019'] / 100 * tpop)\n",
    "        t65 = round(dff.loc['SP.POP.65UP.TO.ZS', '2019'] / 100 * tpop)\n",
    "        \n",
    "        \n",
    "        m14 = t14 - f14\n",
    "        m64 = dff.loc['SP.POP.1564.MA.IN', '2019']\n",
    "        m65 = t65 - f65\n",
    "        "
   ]
  },
  {
   "cell_type": "code",
   "execution_count": 246,
   "metadata": {},
   "outputs": [],
   "source": [
    "        f = dff.loc['SP.POP.1564.FE.IN', '2019']\n",
    "        m = dff.loc['SP.POP.1564.MA.IN', '2019']\n",
    "\n",
    "\n",
    "        f_lab = dff.loc['SL.TLF.ACTI.FE.ZS', '2019'] / 100 * f\n",
    "        m_lab = dff.loc['SL.TLF.ACTI.MA.ZS', '2019'] / 100 * m\n",
    "        t_lab = f_lab + m_lab"
   ]
  },
  {
   "cell_type": "code",
   "execution_count": 256,
   "metadata": {},
   "outputs": [],
   "source": [
    "dff = df[df['country_code'] == 'ZWE'].set_index('indicator_code')"
   ]
  },
  {
   "cell_type": "code",
   "execution_count": 258,
   "metadata": {},
   "outputs": [
    {
     "data": {
      "text/plain": [
       "nan"
      ]
     },
     "execution_count": 258,
     "metadata": {},
     "output_type": "execute_result"
    }
   ],
   "source": [
    "dff.loc['SL.TLF.ACTI.FE.ZS', '1970']"
   ]
  },
  {
   "cell_type": "code",
   "execution_count": 264,
   "metadata": {},
   "outputs": [],
   "source": [
    "p_years = [i for i in range(1970, 2020) if (math.isnan(dff.loc['SP.POP.1564.FE.IN', str(i)]) == False) & (math.isnan(dff.loc['SL.TLF.ACTI.FE.ZS', str(i)]) == False)]"
   ]
  },
  {
   "cell_type": "code",
   "execution_count": 265,
   "metadata": {},
   "outputs": [],
   "source": [
    "import plotly.graph_objects as go"
   ]
  },
  {
   "cell_type": "code",
   "execution_count": 268,
   "metadata": {},
   "outputs": [],
   "source": [
    "lab_fig = go.Figure()\n",
    "for year in p_years:\n",
    "    \n",
    "    f = dff.loc['SP.POP.1564.FE.IN', str(year)]\n",
    "    m = dff.loc['SP.POP.1564.MA.IN', str(year)]\n",
    "    \n",
    "    f_lab = dff.loc['SL.TLF.ACTI.FE.ZS', str(year)] / 100 * f\n",
    "    m_lab = dff.loc['SL.TLF.ACTI.MA.ZS', str(year)] / 100 * m\n",
    "    t_lab = f_lab + m_lab\n",
    "    \n",
    "    lab_fig.add_trace(go.Bar(\n",
    "        x = [f_lab / t_lab],\n",
    "        y = [year],\n",
    "        orientation = 'h',\n",
    "        marker = {'color' : 'rgba(175, 157, 200, 1)'}\n",
    "        ))\n",
    "    lab_fig.add_trace(go.Bar(\n",
    "        x = [m_lab / t_lab],\n",
    "        y = [year],\n",
    "        orientation = 'h',\n",
    "        marker = {'color' : 'rgba(183, 214, 215, 1)'}\n",
    "        ))\n",
    "    lab_fig.update_layout(barmode = 'stack',\n",
    "    showlegend = False\n",
    ")"
   ]
  },
  {
   "cell_type": "code",
   "execution_count": 270,
   "metadata": {},
   "outputs": [],
   "source": [
    "    f_lab = dff.loc['SL.TLF.ACTI.FE.ZS', '2019'] / 100 * f\n",
    "    m_lab = dff.loc['SL.TLF.ACTI.MA.ZS', '2019'] / 100 * m\n",
    "    t_lab = f_lab + m_lab\n",
    "\n",
    "    f_bas = dff.loc['SL.TLF.BASC.FE.ZS', '2019'] / 100 * f\n",
    "    m_bas = dff.loc['SL.TLF.BASC.MA.ZS', '2019'] / 100 * m\n",
    "    t_bas = f_bas + m_bas\n",
    "\n",
    "    f_int = dff.loc['SL.TLF.INTM.FE.ZS', '2019'] / 100 * f\n",
    "    m_int = dff.loc['SL.TLF.INTM.MA.ZS', '2019'] / 100 * m\n",
    "    t_int = f_int + m_int\n",
    "\n",
    "    f_adv = dff.loc['SL.TLF.ADVN.FE.ZS', '2019'] / 100 * f\n",
    "    m_adv = dff.loc['SL.TLF.ADVN.MA.ZS', '2019'] / 100 * m\n",
    "    t_adv = f_adv + m_adv"
   ]
  },
  {
   "cell_type": "code",
   "execution_count": 271,
   "metadata": {},
   "outputs": [
    {
     "data": {
      "text/plain": [
       "10375616.349176615"
      ]
     },
     "execution_count": 271,
     "metadata": {},
     "output_type": "execute_result"
    }
   ],
   "source": [
    "t_bas + t_int + t_adv"
   ]
  },
  {
   "cell_type": "code",
   "execution_count": 272,
   "metadata": {},
   "outputs": [
    {
     "data": {
      "text/plain": [
       "6751282.53589012"
      ]
     },
     "execution_count": 272,
     "metadata": {},
     "output_type": "execute_result"
    }
   ],
   "source": [
    "t_lab"
   ]
  },
  {
   "cell_type": "code",
   "execution_count": 273,
   "metadata": {},
   "outputs": [],
   "source": [
    "a = ['a', 'b', 'c']"
   ]
  },
  {
   "cell_type": "code",
   "execution_count": 281,
   "metadata": {},
   "outputs": [
    {
     "data": {
      "text/plain": [
       "'a, b, c'"
      ]
     },
     "execution_count": 281,
     "metadata": {},
     "output_type": "execute_result"
    }
   ],
   "source": [
    "', '.join(a)"
   ]
  },
  {
   "cell_type": "code",
   "execution_count": null,
   "metadata": {},
   "outputs": [],
   "source": []
  },
  {
   "cell_type": "code",
   "execution_count": 259,
   "metadata": {},
   "outputs": [],
   "source": [
    "import math"
   ]
  },
  {
   "cell_type": "code",
   "execution_count": 263,
   "metadata": {},
   "outputs": [
    {
     "data": {
      "text/plain": [
       "[1990,\n",
       " 1991,\n",
       " 1992,\n",
       " 1993,\n",
       " 1994,\n",
       " 1995,\n",
       " 1996,\n",
       " 1997,\n",
       " 1998,\n",
       " 1999,\n",
       " 2000,\n",
       " 2001,\n",
       " 2002,\n",
       " 2003,\n",
       " 2004,\n",
       " 2005,\n",
       " 2006,\n",
       " 2007,\n",
       " 2008,\n",
       " 2009,\n",
       " 2010,\n",
       " 2011,\n",
       " 2012,\n",
       " 2013,\n",
       " 2014,\n",
       " 2015,\n",
       " 2016,\n",
       " 2017,\n",
       " 2018,\n",
       " 2019]"
      ]
     },
     "execution_count": 263,
     "metadata": {},
     "output_type": "execute_result"
    }
   ],
   "source": []
  },
  {
   "cell_type": "code",
   "execution_count": null,
   "metadata": {},
   "outputs": [],
   "source": []
  },
  {
   "cell_type": "code",
   "execution_count": null,
   "metadata": {},
   "outputs": [],
   "source": []
  },
  {
   "cell_type": "code",
   "execution_count": null,
   "metadata": {},
   "outputs": [],
   "source": []
  },
  {
   "cell_type": "code",
   "execution_count": null,
   "metadata": {},
   "outputs": [],
   "source": []
  },
  {
   "cell_type": "code",
   "execution_count": 240,
   "metadata": {},
   "outputs": [
    {
     "data": {
      "text/plain": [
       "31117917.0"
      ]
     },
     "execution_count": 240,
     "metadata": {},
     "output_type": "execute_result"
    }
   ],
   "source": [
    "m14"
   ]
  },
  {
   "cell_type": "code",
   "execution_count": 228,
   "metadata": {},
   "outputs": [
    {
     "data": {
      "text/plain": [
       "0.08954990773612598"
      ]
     },
     "execution_count": 228,
     "metadata": {},
     "output_type": "execute_result"
    }
   ],
   "source": [
    "f65/tpop"
   ]
  },
  {
   "cell_type": "code",
   "execution_count": 230,
   "metadata": {},
   "outputs": [
    {
     "data": {
      "text/plain": [
       "0.09480246837916591"
      ]
     },
     "execution_count": 230,
     "metadata": {},
     "output_type": "execute_result"
    }
   ],
   "source": [
    "m14/tpop"
   ]
  },
  {
   "cell_type": "code",
   "execution_count": 226,
   "metadata": {},
   "outputs": [
    {
     "data": {
      "text/plain": [
       "0.09480246837916591"
      ]
     },
     "execution_count": 226,
     "metadata": {},
     "output_type": "execute_result"
    }
   ],
   "source": [
    "m14/tpop"
   ]
  },
  {
   "cell_type": "code",
   "execution_count": 239,
   "metadata": {},
   "outputs": [
    {
     "data": {
      "text/plain": [
       "328239523.0"
      ]
     },
     "execution_count": 239,
     "metadata": {},
     "output_type": "execute_result"
    }
   ],
   "source": [
    "tpop"
   ]
  },
  {
   "cell_type": "code",
   "execution_count": 238,
   "metadata": {},
   "outputs": [
    {
     "data": {
      "text/plain": [
       "23812515.0"
      ]
     },
     "execution_count": 238,
     "metadata": {},
     "output_type": "execute_result"
    }
   ],
   "source": [
    "m65"
   ]
  },
  {
   "cell_type": "code",
   "execution_count": 164,
   "metadata": {},
   "outputs": [
    {
     "data": {
      "text/plain": [
       "18512029.0"
      ]
     },
     "execution_count": 164,
     "metadata": {},
     "output_type": "execute_result"
    }
   ],
   "source": [
    "dff.loc['SP.POP.TOTL.FE.IN', '2019']"
   ]
  },
  {
   "cell_type": "code",
   "execution_count": 204,
   "metadata": {},
   "outputs": [
    {
     "data": {
      "text/plain": [
       "38041777.0"
      ]
     },
     "execution_count": 204,
     "metadata": {},
     "output_type": "execute_result"
    }
   ],
   "source": [
    "f14+f64+f65+m14+m64+m65"
   ]
  },
  {
   "cell_type": "code",
   "execution_count": 203,
   "metadata": {},
   "outputs": [
    {
     "data": {
      "text/plain": [
       "7885531.0"
      ]
     },
     "execution_count": 203,
     "metadata": {},
     "output_type": "execute_result"
    }
   ],
   "source": [
    "f14"
   ]
  },
  {
   "cell_type": "code",
   "execution_count": 178,
   "metadata": {},
   "outputs": [
    {
     "data": {
      "text/plain": [
       "1607834169"
      ]
     },
     "execution_count": 178,
     "metadata": {},
     "output_type": "execute_result"
    }
   ],
   "source": [
    "round(t14*tpop - f14)"
   ]
  },
  {
   "cell_type": "code",
   "execution_count": 172,
   "metadata": {},
   "outputs": [
    {
     "data": {
      "text/plain": [
       "10796590.472271388"
      ]
     },
     "execution_count": 172,
     "metadata": {},
     "output_type": "execute_result"
    }
   ],
   "source": [
    "m14+m64"
   ]
  },
  {
   "cell_type": "code",
   "execution_count": 150,
   "metadata": {},
   "outputs": [],
   "source": [
    "pd.set_option('display.max_colwidth', None)"
   ]
  },
  {
   "cell_type": "code",
   "execution_count": 2,
   "metadata": {},
   "outputs": [],
   "source": [
    "import pandas as pd"
   ]
  },
  {
   "cell_type": "code",
   "execution_count": 3,
   "metadata": {},
   "outputs": [],
   "source": [
    "df = pd.read_csv('../data/selected_data.csv')"
   ]
  },
  {
   "cell_type": "code",
   "execution_count": 6,
   "metadata": {},
   "outputs": [
    {
     "data": {
      "text/html": [
       "<div>\n",
       "<style scoped>\n",
       "    .dataframe tbody tr th:only-of-type {\n",
       "        vertical-align: middle;\n",
       "    }\n",
       "\n",
       "    .dataframe tbody tr th {\n",
       "        vertical-align: top;\n",
       "    }\n",
       "\n",
       "    .dataframe thead th {\n",
       "        text-align: right;\n",
       "    }\n",
       "</style>\n",
       "<table border=\"1\" class=\"dataframe\">\n",
       "  <thead>\n",
       "    <tr style=\"text-align: right;\">\n",
       "      <th></th>\n",
       "      <th>country_name</th>\n",
       "      <th>country_code</th>\n",
       "      <th>indicator_code</th>\n",
       "      <th>1970</th>\n",
       "      <th>1971</th>\n",
       "      <th>1972</th>\n",
       "      <th>1973</th>\n",
       "      <th>1974</th>\n",
       "      <th>1975</th>\n",
       "      <th>1976</th>\n",
       "      <th>...</th>\n",
       "      <th>2010</th>\n",
       "      <th>2011</th>\n",
       "      <th>2012</th>\n",
       "      <th>2013</th>\n",
       "      <th>2014</th>\n",
       "      <th>2015</th>\n",
       "      <th>2016</th>\n",
       "      <th>2017</th>\n",
       "      <th>2018</th>\n",
       "      <th>2019</th>\n",
       "    </tr>\n",
       "  </thead>\n",
       "  <tbody>\n",
       "    <tr>\n",
       "      <th>14097</th>\n",
       "      <td>Kazakhstan</td>\n",
       "      <td>KAZ</td>\n",
       "      <td>SH.PAR.LEVE</td>\n",
       "      <td>NaN</td>\n",
       "      <td>NaN</td>\n",
       "      <td>NaN</td>\n",
       "      <td>NaN</td>\n",
       "      <td>NaN</td>\n",
       "      <td>NaN</td>\n",
       "      <td>NaN</td>\n",
       "      <td>...</td>\n",
       "      <td>NaN</td>\n",
       "      <td>NaN</td>\n",
       "      <td>NaN</td>\n",
       "      <td>NaN</td>\n",
       "      <td>NaN</td>\n",
       "      <td>NaN</td>\n",
       "      <td>NaN</td>\n",
       "      <td>NaN</td>\n",
       "      <td>NaN</td>\n",
       "      <td>309.0</td>\n",
       "    </tr>\n",
       "  </tbody>\n",
       "</table>\n",
       "<p>1 rows × 53 columns</p>\n",
       "</div>"
      ],
      "text/plain": [
       "      country_name country_code indicator_code  1970  1971  1972  1973  1974  \\\n",
       "14097   Kazakhstan          KAZ    SH.PAR.LEVE   NaN   NaN   NaN   NaN   NaN   \n",
       "\n",
       "       1975  1976  ...  2010  2011  2012  2013  2014  2015  2016  2017  2018  \\\n",
       "14097   NaN   NaN  ...   NaN   NaN   NaN   NaN   NaN   NaN   NaN   NaN   NaN   \n",
       "\n",
       "        2019  \n",
       "14097  309.0  \n",
       "\n",
       "[1 rows x 53 columns]"
      ]
     },
     "execution_count": 6,
     "metadata": {},
     "output_type": "execute_result"
    }
   ],
   "source": [
    "df[(df['country_code'] == 'KAZ') & (df['indicator_code'] == 'SH.PAR.LEVE')]"
   ]
  },
  {
   "cell_type": "code",
   "execution_count": null,
   "metadata": {},
   "outputs": [],
   "source": []
  },
  {
   "cell_type": "code",
   "execution_count": 241,
   "metadata": {},
   "outputs": [
    {
     "data": {
      "text/html": [
       "<div>\n",
       "<style scoped>\n",
       "    .dataframe tbody tr th:only-of-type {\n",
       "        vertical-align: middle;\n",
       "    }\n",
       "\n",
       "    .dataframe tbody tr th {\n",
       "        vertical-align: top;\n",
       "    }\n",
       "\n",
       "    .dataframe thead th {\n",
       "        text-align: right;\n",
       "    }\n",
       "</style>\n",
       "<table border=\"1\" class=\"dataframe\">\n",
       "  <thead>\n",
       "    <tr style=\"text-align: right;\">\n",
       "      <th></th>\n",
       "      <th>series_code</th>\n",
       "      <th>topic</th>\n",
       "      <th>indicator_name</th>\n",
       "      <th>long_definition</th>\n",
       "      <th>aggregation_method</th>\n",
       "      <th>source</th>\n",
       "    </tr>\n",
       "  </thead>\n",
       "  <tbody>\n",
       "    <tr>\n",
       "      <th>0</th>\n",
       "      <td>FX.OWN.TOTL.FE.ZS</td>\n",
       "      <td>Financial Sector: Access</td>\n",
       "      <td>Account ownership at a financial institution or with a mobile-money-service provider, female (% of population ages 15+)</td>\n",
       "      <td>Account denotes the percentage of respondents who report having an account (by themselves or together with someone else) at a bank or another type of financial institution or report personally using a mobile money service in the past 12 months (female, % age 15+).</td>\n",
       "      <td>Weighted average</td>\n",
       "      <td>Demirguc-Kunt et al., 2018, Global Financial Inclusion Database, World Bank.</td>\n",
       "    </tr>\n",
       "    <tr>\n",
       "      <th>1</th>\n",
       "      <td>FX.OWN.TOTL.MA.ZS</td>\n",
       "      <td>Financial Sector: Access</td>\n",
       "      <td>Account ownership at a financial institution or with a mobile-money-service provider, male (% of population ages 15+)</td>\n",
       "      <td>Account denotes the percentage of respondents who report having an account (by themselves or together with someone else) at a bank or another type of financial institution or report personally using a mobile money service in the past 12 months (male, % age 15+).</td>\n",
       "      <td>Weighted average</td>\n",
       "      <td>Demirguc-Kunt et al., 2018, Global Financial Inclusion Database, World Bank.</td>\n",
       "    </tr>\n",
       "    <tr>\n",
       "      <th>66</th>\n",
       "      <td>SH.STA.SUIC.FE.P5</td>\n",
       "      <td>Health: Mortality</td>\n",
       "      <td>Suicide mortality rate, female (per 100,000 female population)</td>\n",
       "      <td>Suicide mortality rate is the number of suicide deaths in a year per 100,000 population. Crude suicide rate (not age-adjusted).</td>\n",
       "      <td>Weighted average</td>\n",
       "      <td>World Health Organization, Global Health Observatory Data Repository (http://apps.who.int/ghodata/).</td>\n",
       "    </tr>\n",
       "    <tr>\n",
       "      <th>67</th>\n",
       "      <td>SH.STA.SUIC.MA.P5</td>\n",
       "      <td>Health: Mortality</td>\n",
       "      <td>Suicide mortality rate, male (per 100,000 male population)</td>\n",
       "      <td>Suicide mortality rate is the number of suicide deaths in a year per 100,000 population. Crude suicide rate (not age-adjusted).</td>\n",
       "      <td>Weighted average</td>\n",
       "      <td>World Health Organization, Global Health Observatory Data Repository (http://apps.who.int/ghodata/).</td>\n",
       "    </tr>\n",
       "    <tr>\n",
       "      <th>72</th>\n",
       "      <td>SL.EMP.1524.SP.FE.NE.ZS</td>\n",
       "      <td>Social Protection &amp; Labor: Economic activity</td>\n",
       "      <td>Employment to population ratio, ages 15-24, female (%) (national estimate)</td>\n",
       "      <td>Employment to population ratio is the proportion of a country's population that is employed. Employment is defined as persons of working age who, during a short reference period, were engaged in any activity to produce goods or provide services for pay or profit, whether at work during the reference period (i.e. who worked in a job for at least one hour) or not at work due to temporary absence from a job, or to working-time arrangements. Ages 15-24 are generally considered the youth population.</td>\n",
       "      <td>Weighted average</td>\n",
       "      <td>International Labour Organization, ILOSTAT database. Data retrieved in September 20, 2020.</td>\n",
       "    </tr>\n",
       "    <tr>\n",
       "      <th>73</th>\n",
       "      <td>SL.EMP.1524.SP.FE.ZS</td>\n",
       "      <td>Social Protection &amp; Labor: Economic activity</td>\n",
       "      <td>Employment to population ratio, ages 15-24, female (%) (modeled ILO estimate)</td>\n",
       "      <td>Employment to population ratio is the proportion of a country's population that is employed. Employment is defined as persons of working age who, during a short reference period, were engaged in any activity to produce goods or provide services for pay or profit, whether at work during the reference period (i.e. who worked in a job for at least one hour) or not at work due to temporary absence from a job, or to working-time arrangements. Ages 15-24 are generally considered the youth population.</td>\n",
       "      <td>Weighted average</td>\n",
       "      <td>International Labour Organization, ILOSTAT database. Data retrieved in September 20, 2020.</td>\n",
       "    </tr>\n",
       "    <tr>\n",
       "      <th>74</th>\n",
       "      <td>SL.EMP.1524.SP.MA.NE.ZS</td>\n",
       "      <td>Social Protection &amp; Labor: Economic activity</td>\n",
       "      <td>Employment to population ratio, ages 15-24, male (%) (national estimate)</td>\n",
       "      <td>Employment to population ratio is the proportion of a country's population that is employed. Employment is defined as persons of working age who, during a short reference period, were engaged in any activity to produce goods or provide services for pay or profit, whether at work during the reference period (i.e. who worked in a job for at least one hour) or not at work due to temporary absence from a job, or to working-time arrangements. Ages 15-24 are generally considered the youth population.</td>\n",
       "      <td>Weighted average</td>\n",
       "      <td>International Labour Organization, ILOSTAT database. Data retrieved in September 20, 2020.</td>\n",
       "    </tr>\n",
       "    <tr>\n",
       "      <th>75</th>\n",
       "      <td>SL.EMP.1524.SP.MA.ZS</td>\n",
       "      <td>Social Protection &amp; Labor: Economic activity</td>\n",
       "      <td>Employment to population ratio, ages 15-24, male (%) (modeled ILO estimate)</td>\n",
       "      <td>Employment to population ratio is the proportion of a country's population that is employed. Employment is defined as persons of working age who, during a short reference period, were engaged in any activity to produce goods or provide services for pay or profit, whether at work during the reference period (i.e. who worked in a job for at least one hour) or not at work due to temporary absence from a job, or to working-time arrangements. Ages 15-24 are generally considered the youth population.</td>\n",
       "      <td>Weighted average</td>\n",
       "      <td>International Labour Organization, ILOSTAT database. Data retrieved in September 20, 2020.</td>\n",
       "    </tr>\n",
       "    <tr>\n",
       "      <th>76</th>\n",
       "      <td>SL.EMP.1524.SP.NE.ZS</td>\n",
       "      <td>Social Protection &amp; Labor: Economic activity</td>\n",
       "      <td>Employment to population ratio, ages 15-24, total (%) (national estimate)</td>\n",
       "      <td>Employment to population ratio is the proportion of a country's population that is employed. Employment is defined as persons of working age who, during a short reference period, were engaged in any activity to produce goods or provide services for pay or profit, whether at work during the reference period (i.e. who worked in a job for at least one hour) or not at work due to temporary absence from a job, or to working-time arrangements. Ages 15-24 are generally considered the youth population.</td>\n",
       "      <td>Weighted average</td>\n",
       "      <td>International Labour Organization, ILOSTAT database. Data retrieved in September 20, 2020.</td>\n",
       "    </tr>\n",
       "    <tr>\n",
       "      <th>82</th>\n",
       "      <td>SL.EMP.TOTL.SP.FE.NE.ZS</td>\n",
       "      <td>Social Protection &amp; Labor: Economic activity</td>\n",
       "      <td>Employment to population ratio, 15+, female (%) (national estimate)</td>\n",
       "      <td>Employment to population ratio is the proportion of a country's population that is employed. Employment is defined as persons of working age who, during a short reference period, were engaged in any activity to produce goods or provide services for pay or profit, whether at work during the reference period (i.e. who worked in a job for at least one hour) or not at work due to temporary absence from a job, or to working-time arrangements. Ages 15 and older are generally considered the working-age population.</td>\n",
       "      <td>Weighted average</td>\n",
       "      <td>International Labour Organization, ILOSTAT database. Data retrieved in September 20, 2020.</td>\n",
       "    </tr>\n",
       "    <tr>\n",
       "      <th>83</th>\n",
       "      <td>SL.EMP.TOTL.SP.FE.ZS</td>\n",
       "      <td>Social Protection &amp; Labor: Economic activity</td>\n",
       "      <td>Employment to population ratio, 15+, female (%) (modeled ILO estimate)</td>\n",
       "      <td>Employment to population ratio is the proportion of a country's population that is employed. Employment is defined as persons of working age who, during a short reference period, were engaged in any activity to produce goods or provide services for pay or profit, whether at work during the reference period (i.e. who worked in a job for at least one hour) or not at work due to temporary absence from a job, or to working-time arrangements. Ages 15 and older are generally considered the working-age population.</td>\n",
       "      <td>Weighted average</td>\n",
       "      <td>International Labour Organization, ILOSTAT database. Data retrieved in September 20, 2020.</td>\n",
       "    </tr>\n",
       "    <tr>\n",
       "      <th>84</th>\n",
       "      <td>SL.EMP.TOTL.SP.MA.NE.ZS</td>\n",
       "      <td>Social Protection &amp; Labor: Economic activity</td>\n",
       "      <td>Employment to population ratio, 15+, male (%) (national estimate)</td>\n",
       "      <td>Employment to population ratio is the proportion of a country's population that is employed. Employment is defined as persons of working age who, during a short reference period, were engaged in any activity to produce goods or provide services for pay or profit, whether at work during the reference period (i.e. who worked in a job for at least one hour) or not at work due to temporary absence from a job, or to working-time arrangements. Ages 15 and older are generally considered the working-age population.</td>\n",
       "      <td>Weighted average</td>\n",
       "      <td>International Labour Organization, ILOSTAT database. Data retrieved in September 20, 2020.</td>\n",
       "    </tr>\n",
       "    <tr>\n",
       "      <th>85</th>\n",
       "      <td>SL.EMP.TOTL.SP.MA.ZS</td>\n",
       "      <td>Social Protection &amp; Labor: Economic activity</td>\n",
       "      <td>Employment to population ratio, 15+, male (%) (modeled ILO estimate)</td>\n",
       "      <td>Employment to population ratio is the proportion of a country's population that is employed. Employment is defined as persons of working age who, during a short reference period, were engaged in any activity to produce goods or provide services for pay or profit, whether at work during the reference period (i.e. who worked in a job for at least one hour) or not at work due to temporary absence from a job, or to working-time arrangements. Ages 15 and older are generally considered the working-age population.</td>\n",
       "      <td>Weighted average</td>\n",
       "      <td>International Labour Organization, ILOSTAT database. Data retrieved in September 20, 2020.</td>\n",
       "    </tr>\n",
       "    <tr>\n",
       "      <th>86</th>\n",
       "      <td>SL.EMP.TOTL.SP.NE.ZS</td>\n",
       "      <td>Social Protection &amp; Labor: Economic activity</td>\n",
       "      <td>Employment to population ratio, 15+, total (%) (national estimate)</td>\n",
       "      <td>Employment to population ratio is the proportion of a country's population that is employed. Employment is defined as persons of working age who, during a short reference period, were engaged in any activity to produce goods or provide services for pay or profit, whether at work during the reference period (i.e. who worked in a job for at least one hour) or not at work due to temporary absence from a job, or to working-time arrangements. Ages 15 and older are generally considered the working-age population.</td>\n",
       "      <td>Weighted average</td>\n",
       "      <td>International Labour Organization, ILOSTAT database. Data retrieved in September 20, 2020.</td>\n",
       "    </tr>\n",
       "    <tr>\n",
       "      <th>95</th>\n",
       "      <td>SL.TLF.ACTI.FE.ZS</td>\n",
       "      <td>Social Protection &amp; Labor: Labor force structure</td>\n",
       "      <td>Labor force participation rate, female (% of female population ages 15-64) (modeled ILO estimate)</td>\n",
       "      <td>Labor force participation rate is the proportion of the population ages 15-64 that is economically active: all people who supply labor for the production of goods and services during a specified period.</td>\n",
       "      <td>Weighted average</td>\n",
       "      <td>International Labour Organization, ILOSTAT database. Data retrieved in September 20, 2020.</td>\n",
       "    </tr>\n",
       "    <tr>\n",
       "      <th>96</th>\n",
       "      <td>SL.TLF.ACTI.MA.ZS</td>\n",
       "      <td>Social Protection &amp; Labor: Labor force structure</td>\n",
       "      <td>Labor force participation rate, male (% of male population ages 15-64) (modeled ILO estimate)</td>\n",
       "      <td>Labor force participation rate is the proportion of the population ages 15-64 that is economically active: all people who supply labor for the production of goods and services during a specified period.</td>\n",
       "      <td>Weighted average</td>\n",
       "      <td>International Labour Organization, ILOSTAT database. Data retrieved in September 20, 2020.</td>\n",
       "    </tr>\n",
       "    <tr>\n",
       "      <th>97</th>\n",
       "      <td>SL.TLF.ADVN.FE.ZS</td>\n",
       "      <td>Social Protection &amp; Labor: Labor force structure</td>\n",
       "      <td>Labor force with advanced education, female (% of female working-age population with advanced education)</td>\n",
       "      <td>The percentage of the working age population with an advanced level of education who are in the labor force. Advanced education comprises short-cycle tertiary education, a bachelor’s degree or equivalent education level, a master’s degree or equivalent education level, or doctoral degree or equivalent education level according to the International Standard Classification of Education 2011 (ISCED 2011).</td>\n",
       "      <td>Weighted average</td>\n",
       "      <td>International Labour Organization, ILOSTAT database. Data retrieved in September 20, 2020.</td>\n",
       "    </tr>\n",
       "    <tr>\n",
       "      <th>98</th>\n",
       "      <td>SL.TLF.ADVN.MA.ZS</td>\n",
       "      <td>Social Protection &amp; Labor: Labor force structure</td>\n",
       "      <td>Labor force with advanced education, male (% of male working-age population with advanced education)</td>\n",
       "      <td>The percentage of the working age population with an advanced level of education who are in the labor force. Advanced education comprises short-cycle tertiary education, a bachelor’s degree or equivalent education level, a master’s degree or equivalent education level, or doctoral degree or equivalent education level according to the International Standard Classification of Education 2011 (ISCED 2011).</td>\n",
       "      <td>Weighted average</td>\n",
       "      <td>International Labour Organization, ILOSTAT database. Data retrieved in September 20, 2020.</td>\n",
       "    </tr>\n",
       "    <tr>\n",
       "      <th>99</th>\n",
       "      <td>SL.TLF.BASC.FE.ZS</td>\n",
       "      <td>Social Protection &amp; Labor: Labor force structure</td>\n",
       "      <td>Labor force with basic education, female (% of female working-age population with basic education)</td>\n",
       "      <td>The percentage of the working age population with a basic level of education who are in the labor force. Basic education comprises primary education or lower secondary education according to the International Standard Classification of Education 2011 (ISCED 2011).</td>\n",
       "      <td>Weighted average</td>\n",
       "      <td>International Labour Organization, ILOSTAT database. Data retrieved in September 20, 2020.</td>\n",
       "    </tr>\n",
       "    <tr>\n",
       "      <th>100</th>\n",
       "      <td>SL.TLF.BASC.MA.ZS</td>\n",
       "      <td>Social Protection &amp; Labor: Labor force structure</td>\n",
       "      <td>Labor force with basic education, male (% of male working-age population with basic education)</td>\n",
       "      <td>The percentage of the working age population with a basic level of education who are in the labor force. Basic education comprises primary education or lower secondary education according to the International Standard Classification of Education 2011 (ISCED 2011).</td>\n",
       "      <td>Weighted average</td>\n",
       "      <td>International Labour Organization, ILOSTAT database. Data retrieved in September 20, 2020.</td>\n",
       "    </tr>\n",
       "    <tr>\n",
       "      <th>101</th>\n",
       "      <td>SL.TLF.CACT.FE.NE.ZS</td>\n",
       "      <td>Social Protection &amp; Labor: Labor force structure</td>\n",
       "      <td>Labor force participation rate, female (% of female population ages 15+) (national estimate)</td>\n",
       "      <td>Labor force participation rate is the proportion of the population ages 15 and older that is economically active: all people who supply labor for the production of goods and services during a specified period.</td>\n",
       "      <td>Weighted average</td>\n",
       "      <td>International Labour Organization, ILOSTAT database. Data retrieved in September 20, 2020.</td>\n",
       "    </tr>\n",
       "    <tr>\n",
       "      <th>102</th>\n",
       "      <td>SL.TLF.CACT.FE.ZS</td>\n",
       "      <td>Social Protection &amp; Labor: Labor force structure</td>\n",
       "      <td>Labor force participation rate, female (% of female population ages 15+) (modeled ILO estimate)</td>\n",
       "      <td>Labor force participation rate is the proportion of the population ages 15 and older that is economically active: all people who supply labor for the production of goods and services during a specified period.</td>\n",
       "      <td>Weighted average</td>\n",
       "      <td>International Labour Organization, ILOSTAT database. Data retrieved in September 20, 2020.</td>\n",
       "    </tr>\n",
       "    <tr>\n",
       "      <th>105</th>\n",
       "      <td>SL.TLF.CACT.MA.NE.ZS</td>\n",
       "      <td>Social Protection &amp; Labor: Labor force structure</td>\n",
       "      <td>Labor force participation rate, male (% of male population ages 15+) (national estimate)</td>\n",
       "      <td>Labor force participation rate is the proportion of the population ages 15 and older that is economically active: all people who supply labor for the production of goods and services during a specified period.</td>\n",
       "      <td>Weighted average</td>\n",
       "      <td>International Labour Organization, ILOSTAT database. Data retrieved in September 20, 2020.</td>\n",
       "    </tr>\n",
       "    <tr>\n",
       "      <th>106</th>\n",
       "      <td>SL.TLF.CACT.MA.ZS</td>\n",
       "      <td>Social Protection &amp; Labor: Labor force structure</td>\n",
       "      <td>Labor force participation rate, male (% of male population ages 15+) (modeled ILO estimate)</td>\n",
       "      <td>Labor force participation rate is the proportion of the population ages 15 and older that is economically active: all people who supply labor for the production of goods and services during a specified period.</td>\n",
       "      <td>Weighted average</td>\n",
       "      <td>International Labour Organization, ILOSTAT database. Data retrieved in September 20, 2020.</td>\n",
       "    </tr>\n",
       "    <tr>\n",
       "      <th>107</th>\n",
       "      <td>SL.TLF.INTM.FE.ZS</td>\n",
       "      <td>Social Protection &amp; Labor: Labor force structure</td>\n",
       "      <td>Labor force with intermediate education, female (% of female working-age population with intermediate education)</td>\n",
       "      <td>The percentage of the working age population with an intermediate level of education who are in the labor force. Intermediate education comprises upper secondary or post-secondary non tertiary education according to the International Standard Classification of Education 2011 (ISCED 2011).</td>\n",
       "      <td>Weighted average</td>\n",
       "      <td>International Labour Organization, ILOSTAT database. Data retrieved in September 20, 2020.</td>\n",
       "    </tr>\n",
       "    <tr>\n",
       "      <th>108</th>\n",
       "      <td>SL.TLF.INTM.MA.ZS</td>\n",
       "      <td>Social Protection &amp; Labor: Labor force structure</td>\n",
       "      <td>Labor force with intermediate education, male (% of male working-age population with intermediate education)</td>\n",
       "      <td>The percentage of the working age population with an intermediate level of education who are in the labor force. Intermediate education comprises upper secondary or post-secondary non tertiary education according to the International Standard Classification of Education 2011 (ISCED 2011).</td>\n",
       "      <td>Weighted average</td>\n",
       "      <td>International Labour Organization, ILOSTAT database. Data retrieved in September 20, 2020.</td>\n",
       "    </tr>\n",
       "    <tr>\n",
       "      <th>119</th>\n",
       "      <td>SP.POP.0014.FE.IN</td>\n",
       "      <td>Health: Population: Structure</td>\n",
       "      <td>Population ages 0-14, female</td>\n",
       "      <td>Female population between the ages 0 to 14. Population is based on the de facto definition of population, which counts all residents regardless of legal status or citizenship.</td>\n",
       "      <td>Sum</td>\n",
       "      <td>World Bank staff estimates using the World Bank's total population and age/sex distributions of the United Nations Population Division's World Population Prospects: 2019 Revision.</td>\n",
       "    </tr>\n",
       "    <tr>\n",
       "      <th>120</th>\n",
       "      <td>SP.POP.0014.TO.ZS</td>\n",
       "      <td>Health: Population: Structure</td>\n",
       "      <td>Population ages 0-14 (% of total population)</td>\n",
       "      <td>Population between the ages 0 to 14 as a percentage of the total population. Population is based on the de facto definition of population.</td>\n",
       "      <td>Weighted average</td>\n",
       "      <td>World Bank staff estimates based on age/sex distributions of United Nations Population Division's World Population Prospects: 2019 Revision.</td>\n",
       "    </tr>\n",
       "    <tr>\n",
       "      <th>121</th>\n",
       "      <td>SP.POP.1564.FE.IN</td>\n",
       "      <td>Health: Population: Structure</td>\n",
       "      <td>Population ages 15-64, female</td>\n",
       "      <td>Female population between the ages 15 to 64. Population is based on the de facto definition of population, which counts all residents regardless of legal status or citizenship.</td>\n",
       "      <td>Sum</td>\n",
       "      <td>World Bank staff estimates using the World Bank's total population and age/sex distributions of the United Nations Population Division's World Population Prospects: 2019 Revision.</td>\n",
       "    </tr>\n",
       "    <tr>\n",
       "      <th>122</th>\n",
       "      <td>SP.POP.1564.MA.IN</td>\n",
       "      <td>Health: Population: Structure</td>\n",
       "      <td>Population ages 15-64, male</td>\n",
       "      <td>Male population between the ages 15 to 64. Population is based on the de facto definition of population, which counts all residents regardless of legal status or citizenship.</td>\n",
       "      <td>Sum</td>\n",
       "      <td>World Bank staff estimates using the World Bank's total population and age/sex distributions of the United Nations Population Division's World Population Prospects: 2019 Revision.</td>\n",
       "    </tr>\n",
       "    <tr>\n",
       "      <th>123</th>\n",
       "      <td>SP.POP.1564.TO</td>\n",
       "      <td>Health: Population: Structure</td>\n",
       "      <td>Population ages 15-64, total</td>\n",
       "      <td>Total population between the ages 15 to 64. Population is based on the de facto definition of population, which counts all residents regardless of legal status or citizenship.</td>\n",
       "      <td>Sum</td>\n",
       "      <td>World Bank staff estimates using the World Bank's total population and age/sex distributions of the United Nations Population Division's World Population Prospects: 2019 Revision.</td>\n",
       "    </tr>\n",
       "    <tr>\n",
       "      <th>124</th>\n",
       "      <td>SP.POP.1564.TO.ZS</td>\n",
       "      <td>Health: Population: Structure</td>\n",
       "      <td>Population ages 15-64 (% of total population)</td>\n",
       "      <td>Total population between the ages 15 to 64 as a percentage of the total population. Population is based on the de facto definition of population, which counts all residents regardless of legal status or citizenship.</td>\n",
       "      <td>Weighted average</td>\n",
       "      <td>World Bank staff estimates based on age/sex distributions of United Nations Population Division's World Population Prospects: 2019 Revision.</td>\n",
       "    </tr>\n",
       "    <tr>\n",
       "      <th>125</th>\n",
       "      <td>SP.POP.65UP.FE.IN</td>\n",
       "      <td>Health: Population: Structure</td>\n",
       "      <td>Population ages 65 and above, female</td>\n",
       "      <td>Female population 65 years of age or older. Population is based on the de facto definition of population, which counts all residents regardless of legal status or citizenship.</td>\n",
       "      <td>Sum</td>\n",
       "      <td>World Bank staff estimates using the World Bank's total population and age/sex distributions of the United Nations Population Division's World Population Prospects: 2019 Revision.</td>\n",
       "    </tr>\n",
       "    <tr>\n",
       "      <th>126</th>\n",
       "      <td>SP.POP.65UP.TO.ZS</td>\n",
       "      <td>Health: Population: Structure</td>\n",
       "      <td>Population ages 65 and above (% of total population)</td>\n",
       "      <td>Population ages 65 and above as a percentage of the total population. Population is based on the de facto definition of population, which counts all residents regardless of legal status or citizenship.</td>\n",
       "      <td>Weighted average</td>\n",
       "      <td>World Bank staff estimates based on age/sex distributions of United Nations Population Division's World Population Prospects: 2019 Revision.</td>\n",
       "    </tr>\n",
       "    <tr>\n",
       "      <th>128</th>\n",
       "      <td>SP.POP.TOTL</td>\n",
       "      <td>Health: Population: Structure</td>\n",
       "      <td>Population, total</td>\n",
       "      <td>Total population is based on the de facto definition of population, which counts all residents regardless of legal status or citizenship. The values shown are midyear estimates.</td>\n",
       "      <td>Sum</td>\n",
       "      <td>(1) United Nations Population Division. World Population Prospects: 2019 Revision. (2) Census reports and other statistical publications from national statistical offices, (3) Eurostat: Demographic Statistics, (4) United Nations Statistical Division. Population and Vital Statistics Reprot (various years), (5) U.S. Census Bureau: International Database, and (6) Secretariat of the Pacific Community: Statistics and Demography Programme.</td>\n",
       "    </tr>\n",
       "    <tr>\n",
       "      <th>129</th>\n",
       "      <td>SP.POP.TOTL.FE.IN</td>\n",
       "      <td>Health: Population: Structure</td>\n",
       "      <td>Population, female</td>\n",
       "      <td>Female population is based on the de facto definition of population, which counts all female residents regardless of legal status or citizenship.</td>\n",
       "      <td>Sum</td>\n",
       "      <td>World Bank staff estimates using the World Bank's total population and age/sex distributions of the United Nations Population Division's World Population Prospects: 2019 Revision.</td>\n",
       "    </tr>\n",
       "    <tr>\n",
       "      <th>130</th>\n",
       "      <td>SP.POP.TOTL.FE.ZS</td>\n",
       "      <td>Health: Population: Structure</td>\n",
       "      <td>Population, female (% of total population)</td>\n",
       "      <td>Female population is the percentage of the population that is female. Population is based on the de facto definition of population, which counts all residents regardless of legal status or citizenship.</td>\n",
       "      <td>Weighted average</td>\n",
       "      <td>World Bank staff estimates based on age/sex distributions of United Nations Population Division's World Population Prospects: 2019 Revision.</td>\n",
       "    </tr>\n",
       "  </tbody>\n",
       "</table>\n",
       "</div>"
      ],
      "text/plain": [
       "                 series_code  \\\n",
       "0          FX.OWN.TOTL.FE.ZS   \n",
       "1          FX.OWN.TOTL.MA.ZS   \n",
       "66         SH.STA.SUIC.FE.P5   \n",
       "67         SH.STA.SUIC.MA.P5   \n",
       "72   SL.EMP.1524.SP.FE.NE.ZS   \n",
       "73      SL.EMP.1524.SP.FE.ZS   \n",
       "74   SL.EMP.1524.SP.MA.NE.ZS   \n",
       "75      SL.EMP.1524.SP.MA.ZS   \n",
       "76      SL.EMP.1524.SP.NE.ZS   \n",
       "82   SL.EMP.TOTL.SP.FE.NE.ZS   \n",
       "83      SL.EMP.TOTL.SP.FE.ZS   \n",
       "84   SL.EMP.TOTL.SP.MA.NE.ZS   \n",
       "85      SL.EMP.TOTL.SP.MA.ZS   \n",
       "86      SL.EMP.TOTL.SP.NE.ZS   \n",
       "95         SL.TLF.ACTI.FE.ZS   \n",
       "96         SL.TLF.ACTI.MA.ZS   \n",
       "97         SL.TLF.ADVN.FE.ZS   \n",
       "98         SL.TLF.ADVN.MA.ZS   \n",
       "99         SL.TLF.BASC.FE.ZS   \n",
       "100        SL.TLF.BASC.MA.ZS   \n",
       "101     SL.TLF.CACT.FE.NE.ZS   \n",
       "102        SL.TLF.CACT.FE.ZS   \n",
       "105     SL.TLF.CACT.MA.NE.ZS   \n",
       "106        SL.TLF.CACT.MA.ZS   \n",
       "107        SL.TLF.INTM.FE.ZS   \n",
       "108        SL.TLF.INTM.MA.ZS   \n",
       "119        SP.POP.0014.FE.IN   \n",
       "120        SP.POP.0014.TO.ZS   \n",
       "121        SP.POP.1564.FE.IN   \n",
       "122        SP.POP.1564.MA.IN   \n",
       "123           SP.POP.1564.TO   \n",
       "124        SP.POP.1564.TO.ZS   \n",
       "125        SP.POP.65UP.FE.IN   \n",
       "126        SP.POP.65UP.TO.ZS   \n",
       "128              SP.POP.TOTL   \n",
       "129        SP.POP.TOTL.FE.IN   \n",
       "130        SP.POP.TOTL.FE.ZS   \n",
       "\n",
       "                                                topic  \\\n",
       "0                            Financial Sector: Access   \n",
       "1                            Financial Sector: Access   \n",
       "66                                  Health: Mortality   \n",
       "67                                  Health: Mortality   \n",
       "72       Social Protection & Labor: Economic activity   \n",
       "73       Social Protection & Labor: Economic activity   \n",
       "74       Social Protection & Labor: Economic activity   \n",
       "75       Social Protection & Labor: Economic activity   \n",
       "76       Social Protection & Labor: Economic activity   \n",
       "82       Social Protection & Labor: Economic activity   \n",
       "83       Social Protection & Labor: Economic activity   \n",
       "84       Social Protection & Labor: Economic activity   \n",
       "85       Social Protection & Labor: Economic activity   \n",
       "86       Social Protection & Labor: Economic activity   \n",
       "95   Social Protection & Labor: Labor force structure   \n",
       "96   Social Protection & Labor: Labor force structure   \n",
       "97   Social Protection & Labor: Labor force structure   \n",
       "98   Social Protection & Labor: Labor force structure   \n",
       "99   Social Protection & Labor: Labor force structure   \n",
       "100  Social Protection & Labor: Labor force structure   \n",
       "101  Social Protection & Labor: Labor force structure   \n",
       "102  Social Protection & Labor: Labor force structure   \n",
       "105  Social Protection & Labor: Labor force structure   \n",
       "106  Social Protection & Labor: Labor force structure   \n",
       "107  Social Protection & Labor: Labor force structure   \n",
       "108  Social Protection & Labor: Labor force structure   \n",
       "119                     Health: Population: Structure   \n",
       "120                     Health: Population: Structure   \n",
       "121                     Health: Population: Structure   \n",
       "122                     Health: Population: Structure   \n",
       "123                     Health: Population: Structure   \n",
       "124                     Health: Population: Structure   \n",
       "125                     Health: Population: Structure   \n",
       "126                     Health: Population: Structure   \n",
       "128                     Health: Population: Structure   \n",
       "129                     Health: Population: Structure   \n",
       "130                     Health: Population: Structure   \n",
       "\n",
       "                                                                                                              indicator_name  \\\n",
       "0    Account ownership at a financial institution or with a mobile-money-service provider, female (% of population ages 15+)   \n",
       "1      Account ownership at a financial institution or with a mobile-money-service provider, male (% of population ages 15+)   \n",
       "66                                                            Suicide mortality rate, female (per 100,000 female population)   \n",
       "67                                                                Suicide mortality rate, male (per 100,000 male population)   \n",
       "72                                                Employment to population ratio, ages 15-24, female (%) (national estimate)   \n",
       "73                                             Employment to population ratio, ages 15-24, female (%) (modeled ILO estimate)   \n",
       "74                                                  Employment to population ratio, ages 15-24, male (%) (national estimate)   \n",
       "75                                               Employment to population ratio, ages 15-24, male (%) (modeled ILO estimate)   \n",
       "76                                                 Employment to population ratio, ages 15-24, total (%) (national estimate)   \n",
       "82                                                       Employment to population ratio, 15+, female (%) (national estimate)   \n",
       "83                                                    Employment to population ratio, 15+, female (%) (modeled ILO estimate)   \n",
       "84                                                         Employment to population ratio, 15+, male (%) (national estimate)   \n",
       "85                                                      Employment to population ratio, 15+, male (%) (modeled ILO estimate)   \n",
       "86                                                        Employment to population ratio, 15+, total (%) (national estimate)   \n",
       "95                         Labor force participation rate, female (% of female population ages 15-64) (modeled ILO estimate)   \n",
       "96                             Labor force participation rate, male (% of male population ages 15-64) (modeled ILO estimate)   \n",
       "97                  Labor force with advanced education, female (% of female working-age population with advanced education)   \n",
       "98                      Labor force with advanced education, male (% of male working-age population with advanced education)   \n",
       "99                        Labor force with basic education, female (% of female working-age population with basic education)   \n",
       "100                           Labor force with basic education, male (% of male working-age population with basic education)   \n",
       "101                             Labor force participation rate, female (% of female population ages 15+) (national estimate)   \n",
       "102                          Labor force participation rate, female (% of female population ages 15+) (modeled ILO estimate)   \n",
       "105                                 Labor force participation rate, male (% of male population ages 15+) (national estimate)   \n",
       "106                              Labor force participation rate, male (% of male population ages 15+) (modeled ILO estimate)   \n",
       "107         Labor force with intermediate education, female (% of female working-age population with intermediate education)   \n",
       "108             Labor force with intermediate education, male (% of male working-age population with intermediate education)   \n",
       "119                                                                                             Population ages 0-14, female   \n",
       "120                                                                             Population ages 0-14 (% of total population)   \n",
       "121                                                                                            Population ages 15-64, female   \n",
       "122                                                                                              Population ages 15-64, male   \n",
       "123                                                                                             Population ages 15-64, total   \n",
       "124                                                                            Population ages 15-64 (% of total population)   \n",
       "125                                                                                     Population ages 65 and above, female   \n",
       "126                                                                     Population ages 65 and above (% of total population)   \n",
       "128                                                                                                        Population, total   \n",
       "129                                                                                                       Population, female   \n",
       "130                                                                               Population, female (% of total population)   \n",
       "\n",
       "                                                                                                                                                                                                                                                                                                                                                                                                                                                                                                                      long_definition  \\\n",
       "0                                                                                                                                                                                                                                                            Account denotes the percentage of respondents who report having an account (by themselves or together with someone else) at a bank or another type of financial institution or report personally using a mobile money service in the past 12 months (female, % age 15+).   \n",
       "1                                                                                                                                                                                                                                                              Account denotes the percentage of respondents who report having an account (by themselves or together with someone else) at a bank or another type of financial institution or report personally using a mobile money service in the past 12 months (male, % age 15+).   \n",
       "66                                                                                                                                                                                                                                                                                                                                                                                                    Suicide mortality rate is the number of suicide deaths in a year per 100,000 population. Crude suicide rate (not age-adjusted).   \n",
       "67                                                                                                                                                                                                                                                                                                                                                                                                    Suicide mortality rate is the number of suicide deaths in a year per 100,000 population. Crude suicide rate (not age-adjusted).   \n",
       "72                Employment to population ratio is the proportion of a country's population that is employed. Employment is defined as persons of working age who, during a short reference period, were engaged in any activity to produce goods or provide services for pay or profit, whether at work during the reference period (i.e. who worked in a job for at least one hour) or not at work due to temporary absence from a job, or to working-time arrangements. Ages 15-24 are generally considered the youth population.   \n",
       "73                Employment to population ratio is the proportion of a country's population that is employed. Employment is defined as persons of working age who, during a short reference period, were engaged in any activity to produce goods or provide services for pay or profit, whether at work during the reference period (i.e. who worked in a job for at least one hour) or not at work due to temporary absence from a job, or to working-time arrangements. Ages 15-24 are generally considered the youth population.   \n",
       "74                Employment to population ratio is the proportion of a country's population that is employed. Employment is defined as persons of working age who, during a short reference period, were engaged in any activity to produce goods or provide services for pay or profit, whether at work during the reference period (i.e. who worked in a job for at least one hour) or not at work due to temporary absence from a job, or to working-time arrangements. Ages 15-24 are generally considered the youth population.   \n",
       "75                Employment to population ratio is the proportion of a country's population that is employed. Employment is defined as persons of working age who, during a short reference period, were engaged in any activity to produce goods or provide services for pay or profit, whether at work during the reference period (i.e. who worked in a job for at least one hour) or not at work due to temporary absence from a job, or to working-time arrangements. Ages 15-24 are generally considered the youth population.   \n",
       "76                Employment to population ratio is the proportion of a country's population that is employed. Employment is defined as persons of working age who, during a short reference period, were engaged in any activity to produce goods or provide services for pay or profit, whether at work during the reference period (i.e. who worked in a job for at least one hour) or not at work due to temporary absence from a job, or to working-time arrangements. Ages 15-24 are generally considered the youth population.   \n",
       "82   Employment to population ratio is the proportion of a country's population that is employed. Employment is defined as persons of working age who, during a short reference period, were engaged in any activity to produce goods or provide services for pay or profit, whether at work during the reference period (i.e. who worked in a job for at least one hour) or not at work due to temporary absence from a job, or to working-time arrangements. Ages 15 and older are generally considered the working-age population.   \n",
       "83   Employment to population ratio is the proportion of a country's population that is employed. Employment is defined as persons of working age who, during a short reference period, were engaged in any activity to produce goods or provide services for pay or profit, whether at work during the reference period (i.e. who worked in a job for at least one hour) or not at work due to temporary absence from a job, or to working-time arrangements. Ages 15 and older are generally considered the working-age population.   \n",
       "84   Employment to population ratio is the proportion of a country's population that is employed. Employment is defined as persons of working age who, during a short reference period, were engaged in any activity to produce goods or provide services for pay or profit, whether at work during the reference period (i.e. who worked in a job for at least one hour) or not at work due to temporary absence from a job, or to working-time arrangements. Ages 15 and older are generally considered the working-age population.   \n",
       "85   Employment to population ratio is the proportion of a country's population that is employed. Employment is defined as persons of working age who, during a short reference period, were engaged in any activity to produce goods or provide services for pay or profit, whether at work during the reference period (i.e. who worked in a job for at least one hour) or not at work due to temporary absence from a job, or to working-time arrangements. Ages 15 and older are generally considered the working-age population.   \n",
       "86   Employment to population ratio is the proportion of a country's population that is employed. Employment is defined as persons of working age who, during a short reference period, were engaged in any activity to produce goods or provide services for pay or profit, whether at work during the reference period (i.e. who worked in a job for at least one hour) or not at work due to temporary absence from a job, or to working-time arrangements. Ages 15 and older are generally considered the working-age population.   \n",
       "95                                                                                                                                                                                                                                                                                                                         Labor force participation rate is the proportion of the population ages 15-64 that is economically active: all people who supply labor for the production of goods and services during a specified period.   \n",
       "96                                                                                                                                                                                                                                                                                                                         Labor force participation rate is the proportion of the population ages 15-64 that is economically active: all people who supply labor for the production of goods and services during a specified period.   \n",
       "97                                                                                                              The percentage of the working age population with an advanced level of education who are in the labor force. Advanced education comprises short-cycle tertiary education, a bachelor’s degree or equivalent education level, a master’s degree or equivalent education level, or doctoral degree or equivalent education level according to the International Standard Classification of Education 2011 (ISCED 2011).   \n",
       "98                                                                                                              The percentage of the working age population with an advanced level of education who are in the labor force. Advanced education comprises short-cycle tertiary education, a bachelor’s degree or equivalent education level, a master’s degree or equivalent education level, or doctoral degree or equivalent education level according to the International Standard Classification of Education 2011 (ISCED 2011).   \n",
       "99                                                                                                                                                                                                                                                           The percentage of the working age population with a basic level of education who are in the labor force. Basic education comprises primary education or lower secondary education according to the International Standard Classification of Education 2011 (ISCED 2011).   \n",
       "100                                                                                                                                                                                                                                                          The percentage of the working age population with a basic level of education who are in the labor force. Basic education comprises primary education or lower secondary education according to the International Standard Classification of Education 2011 (ISCED 2011).   \n",
       "101                                                                                                                                                                                                                                                                                                                 Labor force participation rate is the proportion of the population ages 15 and older that is economically active: all people who supply labor for the production of goods and services during a specified period.   \n",
       "102                                                                                                                                                                                                                                                                                                                 Labor force participation rate is the proportion of the population ages 15 and older that is economically active: all people who supply labor for the production of goods and services during a specified period.   \n",
       "105                                                                                                                                                                                                                                                                                                                 Labor force participation rate is the proportion of the population ages 15 and older that is economically active: all people who supply labor for the production of goods and services during a specified period.   \n",
       "106                                                                                                                                                                                                                                                                                                                 Labor force participation rate is the proportion of the population ages 15 and older that is economically active: all people who supply labor for the production of goods and services during a specified period.   \n",
       "107                                                                                                                                                                                                                                 The percentage of the working age population with an intermediate level of education who are in the labor force. Intermediate education comprises upper secondary or post-secondary non tertiary education according to the International Standard Classification of Education 2011 (ISCED 2011).   \n",
       "108                                                                                                                                                                                                                                 The percentage of the working age population with an intermediate level of education who are in the labor force. Intermediate education comprises upper secondary or post-secondary non tertiary education according to the International Standard Classification of Education 2011 (ISCED 2011).   \n",
       "119                                                                                                                                                                                                                                                                                                                                                   Female population between the ages 0 to 14. Population is based on the de facto definition of population, which counts all residents regardless of legal status or citizenship.   \n",
       "120                                                                                                                                                                                                                                                                                                                                                                                        Population between the ages 0 to 14 as a percentage of the total population. Population is based on the de facto definition of population.   \n",
       "121                                                                                                                                                                                                                                                                                                                                                  Female population between the ages 15 to 64. Population is based on the de facto definition of population, which counts all residents regardless of legal status or citizenship.   \n",
       "122                                                                                                                                                                                                                                                                                                                                                    Male population between the ages 15 to 64. Population is based on the de facto definition of population, which counts all residents regardless of legal status or citizenship.   \n",
       "123                                                                                                                                                                                                                                                                                                                                                   Total population between the ages 15 to 64. Population is based on the de facto definition of population, which counts all residents regardless of legal status or citizenship.   \n",
       "124                                                                                                                                                                                                                                                                                                           Total population between the ages 15 to 64 as a percentage of the total population. Population is based on the de facto definition of population, which counts all residents regardless of legal status or citizenship.   \n",
       "125                                                                                                                                                                                                                                                                                                                                                   Female population 65 years of age or older. Population is based on the de facto definition of population, which counts all residents regardless of legal status or citizenship.   \n",
       "126                                                                                                                                                                                                                                                                                                                         Population ages 65 and above as a percentage of the total population. Population is based on the de facto definition of population, which counts all residents regardless of legal status or citizenship.   \n",
       "128                                                                                                                                                                                                                                                                                                                                                 Total population is based on the de facto definition of population, which counts all residents regardless of legal status or citizenship. The values shown are midyear estimates.   \n",
       "129                                                                                                                                                                                                                                                                                                                                                                                 Female population is based on the de facto definition of population, which counts all female residents regardless of legal status or citizenship.   \n",
       "130                                                                                                                                                                                                                                                                                                                         Female population is the percentage of the population that is female. Population is based on the de facto definition of population, which counts all residents regardless of legal status or citizenship.   \n",
       "\n",
       "    aggregation_method  \\\n",
       "0     Weighted average   \n",
       "1     Weighted average   \n",
       "66    Weighted average   \n",
       "67    Weighted average   \n",
       "72    Weighted average   \n",
       "73    Weighted average   \n",
       "74    Weighted average   \n",
       "75    Weighted average   \n",
       "76    Weighted average   \n",
       "82    Weighted average   \n",
       "83    Weighted average   \n",
       "84    Weighted average   \n",
       "85    Weighted average   \n",
       "86    Weighted average   \n",
       "95    Weighted average   \n",
       "96    Weighted average   \n",
       "97    Weighted average   \n",
       "98    Weighted average   \n",
       "99    Weighted average   \n",
       "100   Weighted average   \n",
       "101   Weighted average   \n",
       "102   Weighted average   \n",
       "105   Weighted average   \n",
       "106   Weighted average   \n",
       "107   Weighted average   \n",
       "108   Weighted average   \n",
       "119                Sum   \n",
       "120   Weighted average   \n",
       "121                Sum   \n",
       "122                Sum   \n",
       "123                Sum   \n",
       "124   Weighted average   \n",
       "125                Sum   \n",
       "126   Weighted average   \n",
       "128                Sum   \n",
       "129                Sum   \n",
       "130   Weighted average   \n",
       "\n",
       "                                                                                                                                                                                                                                                                                                                                                                                                                                                    source  \n",
       "0                                                                                                                                                                                                                                                                                                                                                                             Demirguc-Kunt et al., 2018, Global Financial Inclusion Database, World Bank.  \n",
       "1                                                                                                                                                                                                                                                                                                                                                                             Demirguc-Kunt et al., 2018, Global Financial Inclusion Database, World Bank.  \n",
       "66                                                                                                                                                                                                                                                                                                                                                    World Health Organization, Global Health Observatory Data Repository (http://apps.who.int/ghodata/).  \n",
       "67                                                                                                                                                                                                                                                                                                                                                    World Health Organization, Global Health Observatory Data Repository (http://apps.who.int/ghodata/).  \n",
       "72                                                                                                                                                                                                                                                                                                                                                              International Labour Organization, ILOSTAT database. Data retrieved in September 20, 2020.  \n",
       "73                                                                                                                                                                                                                                                                                                                                                              International Labour Organization, ILOSTAT database. Data retrieved in September 20, 2020.  \n",
       "74                                                                                                                                                                                                                                                                                                                                                              International Labour Organization, ILOSTAT database. Data retrieved in September 20, 2020.  \n",
       "75                                                                                                                                                                                                                                                                                                                                                              International Labour Organization, ILOSTAT database. Data retrieved in September 20, 2020.  \n",
       "76                                                                                                                                                                                                                                                                                                                                                              International Labour Organization, ILOSTAT database. Data retrieved in September 20, 2020.  \n",
       "82                                                                                                                                                                                                                                                                                                                                                              International Labour Organization, ILOSTAT database. Data retrieved in September 20, 2020.  \n",
       "83                                                                                                                                                                                                                                                                                                                                                              International Labour Organization, ILOSTAT database. Data retrieved in September 20, 2020.  \n",
       "84                                                                                                                                                                                                                                                                                                                                                              International Labour Organization, ILOSTAT database. Data retrieved in September 20, 2020.  \n",
       "85                                                                                                                                                                                                                                                                                                                                                              International Labour Organization, ILOSTAT database. Data retrieved in September 20, 2020.  \n",
       "86                                                                                                                                                                                                                                                                                                                                                              International Labour Organization, ILOSTAT database. Data retrieved in September 20, 2020.  \n",
       "95                                                                                                                                                                                                                                                                                                                                                              International Labour Organization, ILOSTAT database. Data retrieved in September 20, 2020.  \n",
       "96                                                                                                                                                                                                                                                                                                                                                              International Labour Organization, ILOSTAT database. Data retrieved in September 20, 2020.  \n",
       "97                                                                                                                                                                                                                                                                                                                                                              International Labour Organization, ILOSTAT database. Data retrieved in September 20, 2020.  \n",
       "98                                                                                                                                                                                                                                                                                                                                                              International Labour Organization, ILOSTAT database. Data retrieved in September 20, 2020.  \n",
       "99                                                                                                                                                                                                                                                                                                                                                              International Labour Organization, ILOSTAT database. Data retrieved in September 20, 2020.  \n",
       "100                                                                                                                                                                                                                                                                                                                                                             International Labour Organization, ILOSTAT database. Data retrieved in September 20, 2020.  \n",
       "101                                                                                                                                                                                                                                                                                                                                                             International Labour Organization, ILOSTAT database. Data retrieved in September 20, 2020.  \n",
       "102                                                                                                                                                                                                                                                                                                                                                             International Labour Organization, ILOSTAT database. Data retrieved in September 20, 2020.  \n",
       "105                                                                                                                                                                                                                                                                                                                                                             International Labour Organization, ILOSTAT database. Data retrieved in September 20, 2020.  \n",
       "106                                                                                                                                                                                                                                                                                                                                                             International Labour Organization, ILOSTAT database. Data retrieved in September 20, 2020.  \n",
       "107                                                                                                                                                                                                                                                                                                                                                             International Labour Organization, ILOSTAT database. Data retrieved in September 20, 2020.  \n",
       "108                                                                                                                                                                                                                                                                                                                                                             International Labour Organization, ILOSTAT database. Data retrieved in September 20, 2020.  \n",
       "119                                                                                                                                                                                                                                                                    World Bank staff estimates using the World Bank's total population and age/sex distributions of the United Nations Population Division's World Population Prospects: 2019 Revision.  \n",
       "120                                                                                                                                                                                                                                                                                                           World Bank staff estimates based on age/sex distributions of United Nations Population Division's World Population Prospects: 2019 Revision.  \n",
       "121                                                                                                                                                                                                                                                                    World Bank staff estimates using the World Bank's total population and age/sex distributions of the United Nations Population Division's World Population Prospects: 2019 Revision.  \n",
       "122                                                                                                                                                                                                                                                                    World Bank staff estimates using the World Bank's total population and age/sex distributions of the United Nations Population Division's World Population Prospects: 2019 Revision.  \n",
       "123                                                                                                                                                                                                                                                                    World Bank staff estimates using the World Bank's total population and age/sex distributions of the United Nations Population Division's World Population Prospects: 2019 Revision.  \n",
       "124                                                                                                                                                                                                                                                                                                           World Bank staff estimates based on age/sex distributions of United Nations Population Division's World Population Prospects: 2019 Revision.  \n",
       "125                                                                                                                                                                                                                                                                    World Bank staff estimates using the World Bank's total population and age/sex distributions of the United Nations Population Division's World Population Prospects: 2019 Revision.  \n",
       "126                                                                                                                                                                                                                                                                                                           World Bank staff estimates based on age/sex distributions of United Nations Population Division's World Population Prospects: 2019 Revision.  \n",
       "128  (1) United Nations Population Division. World Population Prospects: 2019 Revision. (2) Census reports and other statistical publications from national statistical offices, (3) Eurostat: Demographic Statistics, (4) United Nations Statistical Division. Population and Vital Statistics Reprot (various years), (5) U.S. Census Bureau: International Database, and (6) Secretariat of the Pacific Community: Statistics and Demography Programme.  \n",
       "129                                                                                                                                                                                                                                                                    World Bank staff estimates using the World Bank's total population and age/sex distributions of the United Nations Population Division's World Population Prospects: 2019 Revision.  \n",
       "130                                                                                                                                                                                                                                                                                                           World Bank staff estimates based on age/sex distributions of United Nations Population Division's World Population Prospects: 2019 Revision.  "
      ]
     },
     "execution_count": 241,
     "metadata": {},
     "output_type": "execute_result"
    }
   ],
   "source": [
    "dfr[dfr['indicator_name'].str.lower().str.contains('pop')]"
   ]
  },
  {
   "cell_type": "code",
   "execution_count": 143,
   "metadata": {},
   "outputs": [
    {
     "name": "stdout",
     "output_type": "stream",
     "text": [
      "1970 : {'label' : '1970'}\n",
      "1975 : {'label' : '1975'}\n",
      "1980 : {'label' : '1980'}\n",
      "1985 : {'label' : '1985'}\n",
      "1990 : {'label' : '1990'}\n",
      "1995 : {'label' : '1995'}\n",
      "2000 : {'label' : '2000'}\n",
      "2005 : {'label' : '2005'}\n",
      "2010 : {'label' : '2010'}\n",
      "2015 : {'label' : '2015'}\n"
     ]
    },
    {
     "data": {
      "text/plain": [
       "[None, None, None, None, None, None, None, None, None, None]"
      ]
     },
     "execution_count": 143,
     "metadata": {},
     "output_type": "execute_result"
    }
   ],
   "source": [
    "[print(str(i) + \" : {'label' : '\" + str(i) + \"'}\") for i in range(1970, 2020, 5)]"
   ]
  },
  {
   "cell_type": "code",
   "execution_count": 133,
   "metadata": {},
   "outputs": [],
   "source": [
    "xs = df[df['indicator_code'] == 'SH.STA.MMRT'].drop(columns = ['country_name', 'country_code', 'indicator_code']).isin([np.nan]).mean() < 1"
   ]
  },
  {
   "cell_type": "code",
   "execution_count": 134,
   "metadata": {},
   "outputs": [],
   "source": [
    "xs = list(df[df['indicator_code'] == 'SH.STA.MMRT'].drop(columns = ['country_name', 'country_code', 'indicator_code']).isin([np.nan]).mean() < 1)"
   ]
  },
  {
   "cell_type": "code",
   "execution_count": 126,
   "metadata": {},
   "outputs": [
    {
     "data": {
      "text/plain": [
       "[True,\n",
       " True,\n",
       " True,\n",
       " True,\n",
       " True,\n",
       " True,\n",
       " True,\n",
       " True,\n",
       " True,\n",
       " True,\n",
       " True,\n",
       " True,\n",
       " True,\n",
       " True,\n",
       " True,\n",
       " True,\n",
       " True,\n",
       " True]"
      ]
     },
     "execution_count": 126,
     "metadata": {},
     "output_type": "execute_result"
    }
   ],
   "source": [
    "list(x)"
   ]
  },
  {
   "cell_type": "code",
   "execution_count": null,
   "metadata": {},
   "outputs": [],
   "source": []
  }
 ],
 "metadata": {
  "kernelspec": {
   "display_name": "Python 3",
   "language": "python",
   "name": "python3"
  },
  "language_info": {
   "codemirror_mode": {
    "name": "ipython",
    "version": 3
   },
   "file_extension": ".py",
   "mimetype": "text/x-python",
   "name": "python",
   "nbconvert_exporter": "python",
   "pygments_lexer": "ipython3",
   "version": "3.8.3"
  }
 },
 "nbformat": 4,
 "nbformat_minor": 4
}
